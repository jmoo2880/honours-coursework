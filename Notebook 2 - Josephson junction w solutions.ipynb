{
 "cells": [
  {
   "cell_type": "markdown",
   "metadata": {},
   "source": [
    "# The Cooper Pair box and the transmon\n",
    "\n",
    "In this notebook we will investigate the Hamiltonian of a Josephson junction\n",
    "\n",
    "$$\n",
    "H = 4E_C (N - n_g)^2 - E_J \\cos \\varphi\n",
    "$$\n",
    "\n",
    "The two lowest energy eigenstates can be used to encode a qubit, which we refer to as a _Cooper_ _pair_ _box_.\n",
    "\n",
    "In the parameter regime $E_J/E_C \\gg 1$ the qubit is also referred to as a _transmon_. The transmon is the most succesful superconducting qubit to date, and used e.g. in all of Google and IBM quantum processors.\n",
    "\n",
    "The most convenient way to implement this Hamiltonian is to use the charge basis:\n",
    "$$\n",
    "N = \\sum_{n=-\\infty}^\\infty N |n\\rangle \\langle n|\\\\\n",
    "f(N) = \\sum_{n=-\\infty}^\\infty f(N) |n\\rangle \\langle n|\\\\\n",
    "\\cos(\\varphi) = \\frac{1}{2}\\sum_{n=-\\infty}^\\infty \\left( |n\\rangle \\langle n+1| + |n+1\\rangle \\langle n|\\right)\\\\\n",
    "$$\n",
    "where $f(N)$ is any function of $N$. To represent these operators as matrices, we simply truncate the sum over $n = -N_t,-N_t+1,\\dots,N_t-1,N_t$.\n",
    "\n",
    "To initialize the operators as QuTiP objects, the easeies way is to first construct a matrix using numpy, and pass that as an argument to `Qobj`. The following example illustrates how it can be done:"
   ]
  },
  {
   "cell_type": "code",
   "execution_count": 36,
   "metadata": {},
   "outputs": [
    {
     "data": {
      "text/latex": [
       "Quantum object: dims = [[7], [7]], shape = (7, 7), type = oper, isherm = True\\begin{equation*}\\left(\\begin{array}{*{11}c}-3.0 & 0.0 & 0.0 & 0.0 & 0.0 & 0.0 & 0.0\\\\0.0 & -2.0 & 0.0 & 0.0 & 0.0 & 0.0 & 0.0\\\\0.0 & 0.0 & -1.0 & 0.0 & 0.0 & 0.0 & 0.0\\\\0.0 & 0.0 & 0.0 & 0.0 & 0.0 & 0.0 & 0.0\\\\0.0 & 0.0 & 0.0 & 0.0 & 1.0 & 0.0 & 0.0\\\\0.0 & 0.0 & 0.0 & 0.0 & 0.0 & 2.0 & 0.0\\\\0.0 & 0.0 & 0.0 & 0.0 & 0.0 & 0.0 & 3.0\\\\\\end{array}\\right)\\end{equation*}"
      ],
      "text/plain": [
       "Quantum object: dims = [[7], [7]], shape = (7, 7), type = oper, isherm = True\n",
       "Qobj data =\n",
       "[[-3.  0.  0.  0.  0.  0.  0.]\n",
       " [ 0. -2.  0.  0.  0.  0.  0.]\n",
       " [ 0.  0. -1.  0.  0.  0.  0.]\n",
       " [ 0.  0.  0.  0.  0.  0.  0.]\n",
       " [ 0.  0.  0.  0.  1.  0.  0.]\n",
       " [ 0.  0.  0.  0.  0.  2.  0.]\n",
       " [ 0.  0.  0.  0.  0.  0.  3.]]"
      ]
     },
     "execution_count": 36,
     "metadata": {},
     "output_type": "execute_result"
    }
   ],
   "source": [
    "import numpy as np\n",
    "import qutip as qt\n",
    "\n",
    "def charge_op(ncut):\n",
    "    # Construct charger operator N\n",
    "    # ncut = truncation parameter in charge basis\n",
    "    mat = np.diag(np.arange(-ncut, ncut+1, 1))\n",
    "    return qt.Qobj(mat)\n",
    "\n",
    "charge_op(3)"
   ]
  },
  {
   "cell_type": "code",
   "execution_count": null,
   "metadata": {},
   "outputs": [],
   "source": []
  },
  {
   "cell_type": "markdown",
   "metadata": {},
   "source": [
    "### Exercise 1:\n",
    "\n",
    "Construct the above Hamiltonian and plot its 3 lowest eigenvalues as a function of $n_g \\in [-1,1]$ for the following parameters:\n",
    "\n",
    "$$\n",
    "E_J/E_C = 2, 10, 50\n",
    "$$\n",
    "\n",
    "Hint: The method `H.eigenenergies()` can be used to extract the eigenvalues.\n",
    "\n",
    "Insert your solution below."
   ]
  },
  {
   "cell_type": "code",
   "execution_count": 69,
   "metadata": {},
   "outputs": [
    {
     "data": {
      "image/png": "[encoded data removed]",
      "text/plain": [
       "<Figure size 1008x288 with 3 Axes>"
      ]
     },
     "metadata": {
      "needs_background": "light"
     },
     "output_type": "display_data"
    }
   ],
   "source": [
    "# Solution\n",
    "\n",
    "# Note: Ground state energy set to zero by convention\n",
    "\n",
    "import matplotlib.pyplot as plt\n",
    "%matplotlib inline\n",
    "\n",
    "def cosphi_op(ncut):\n",
    "    # Construct cos(phi) operator\n",
    "    # ncut = truncation parameter in charge basis\n",
    "    dim = 2*ncut + 1\n",
    "    dim = 2*ncut+1\n",
    "    mat = 0.5*(np.diag(np.ones(dim-1), 1) + np.diag(np.ones(dim-1), -1))\n",
    "    return qt.Qobj(mat)   \n",
    "\n",
    "def spectrum(EC, EJ, ng, ncut):\n",
    "    # construct H\n",
    "    N = charge_op(ncut)\n",
    "    cosphi = cosphi_op(ncut)\n",
    "    H = 4 * EC * (N ** 2 - 2 * ng * N + ng ** 2) - EJ * cosphi\n",
    "    # return four lowest eigenalues\n",
    "    return H.eigenenergies()\n",
    "\n",
    "\n",
    "fig = plt.figure(figsize=(14, 4))\n",
    "plt.rc('font', size=14)\n",
    "\n",
    "ax = fig.add_subplot(1, 3, 1)\n",
    "bx = fig.add_subplot(1, 3, 2)\n",
    "cx = fig.add_subplot(1, 3, 3)\n",
    "\n",
    "ngrange = np.arange(-1, 1, 0.01)\n",
    "ncut = 10\n",
    "\n",
    "def plotter(ax, EC, EJ):\n",
    "    vals = np.array([spectrum(EC, EJ, ng, ncut) for ng in ngrange])\n",
    "    ax.plot(ngrange, vals[:, 0] - vals[:, 0])\n",
    "    ax.plot(ngrange, vals[:, 1] - vals[:, 0])\n",
    "    ax.plot(ngrange, vals[:, 2] - vals[:, 0])\n",
    "    \n",
    "plotter(ax, 1, 2)\n",
    "plotter(bx, 1, 10)\n",
    "plotter(cx, 1, 50)\n",
    "\n",
    "ax.set_title(r'$E_J/E_C=2$')\n",
    "bx.set_title(r'$E_J/E_C=10$')\n",
    "cx.set_title(r'$E_J/E_C=50$')\n",
    "\n",
    "ax.set_ylabel(r'$E/E_C$')\n",
    "ax.set_xlabel(r'$n_g$')\n",
    "bx.set_xlabel(r'$n_g$')\n",
    "cx.set_xlabel(r'$n_g$')\n",
    "\n",
    "fig.tight_layout()"
   ]
  },
  {
   "cell_type": "code",
   "execution_count": null,
   "metadata": {},
   "outputs": [],
   "source": []
  },
  {
   "cell_type": "markdown",
   "metadata": {},
   "source": [
    "**Question:** Why do you think the transmon regime where $E_J/E_C \\gg 1$ is better for qubit operation?"
   ]
  },
  {
   "cell_type": "code",
   "execution_count": null,
   "metadata": {},
   "outputs": [],
   "source": []
  }
 ],
 "metadata": {
  "kernelspec": {
   "display_name": "Python 3",
   "language": "python",
   "name": "python3"
  },
  "language_info": {
   "codemirror_mode": {
    "name": "ipython",
    "version": 3
   },
   "file_extension": ".py",
   "mimetype": "text/x-python",
   "name": "python",
   "nbconvert_exporter": "python",
   "pygments_lexer": "ipython3",
   "version": "3.8.3"
  }
 },
 "nbformat": 4,
 "nbformat_minor": 4
}
