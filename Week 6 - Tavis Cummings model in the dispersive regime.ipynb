{
 "cells": [
  {
   "cell_type": "markdown",
   "metadata": {},
   "source": [
    "# Tavis-Cummings model: coupling multiple 'atoms' to a single cavity\n",
    "\n",
    "## Tavis-Cummings Hamiltonian\n",
    "\n",
    "$$\n",
    "H_{TC} = \\omega_r \\hat{a}^{\\dagger} \\hat{a} + \\sum_{i = 1}^{N} \\left( \\frac{1}{2} \\omega_i \\hat{\\sigma}^{\\dagger}_{i}\\hat{\\sigma}_{i} + g (\\hat{a} \\hat{\\sigma}^{\\dagger}_{i} + \\hat{a}^\\dagger \\hat{\\sigma}_{i})\\right)\n",
    "$$\n",
    "\n",
    "where $\\hat{\\sigma}^\\dagger_i$, and $\\hat{\\sigma}_i$ are the operators defined above for the ith atom. In Module 2 we have mainly considered the case $N = 2$.\n",
    "\n",
    "You can use this notebook to study the spectral response of the system both in transmission and reflection.\n",
    "\n",
    "## Transmission spectrum for the coupled cavity system\n",
    "\n",
    "Following the process outlined in \\[1\\] a non-Hermitian Hamiltonian can be written to include the cavity and ion loss rates, $\\kappa$ and $\\gamma_i$ respectively.\n",
    "\n",
    "$$\n",
    "H_{TC} = (\\omega_r - i\\frac{\\kappa}{2}) a^\\dagger a + (\\omega_1 + \\Delta + \\frac{\\delta}{2} -i\\frac{\\gamma_1}{2}) \\sigma^\\dagger_1 \\sigma_1 + (\\omega_2 + \\Delta - \\frac{\\delta}{2} -i\\frac{\\gamma_2}{2}) \\sigma^\\dagger_2 \\sigma_2 + [a^\\dagger (g_1\\sigma_1 + g_2\\sigma_2) + \\mathrm{h.c}]\n",
    "$$\n",
    "\n",
    "By solving the Heisenberg Langevin equations of motion in the low excitation approximation we can write the intensity transmission function as \n",
    "\n",
    "$$\n",
    "T(\\omega) = \\dfrac{\\kappa}{4|D|^2}\n",
    "$$\n",
    "\n",
    "where\n",
    "\n",
    "$$\n",
    "D = i(\\omega_c - \\omega) + \\frac{\\kappa}{2} - \\left(\\frac{|g_1|^2}{-i(\\omega_c - \\omega + \\Delta - \\frac{\\delta}{2})-\\frac{\\gamma_1}{2}} + \\frac{|g_2|^2}{-i(\\omega_c - \\omega + \\Delta + \\frac{\\delta}{2})-\\frac{\\gamma_2}{2}} \\right)\n",
    "$$\n",
    "\n",
    "\\[1\\] M. Tavis, F. W. Cummings, Exact Solution for an N -Molecule—Radiation-Field Hamiltonian. Phys. Rev. 170, 379–384 (1968). doi:10.1103/PhysRev.170.379\n"
   ]
  },
  {
   "cell_type": "code",
   "execution_count": 2,
   "metadata": {},
   "outputs": [],
   "source": [
    "# import libraries\n",
    "import numpy as np\n",
    "import matplotlib.pyplot as plt\n",
    "\n",
    "# use inline plotting\n",
    "%matplotlib inline"
   ]
  },
  {
   "cell_type": "code",
   "execution_count": 53,
   "metadata": {},
   "outputs": [
    {
     "data": {
      "image/png": "[encoded data removed]",
      "text/plain": [
       "<Figure size 576x288 with 1 Axes>"
      ]
     },
     "metadata": {
      "needs_background": "light"
     },
     "output_type": "display_data"
    }
   ],
   "source": [
    "# Figure 2A\n",
    "# System parameters with all units in 2*pi*GHz\n",
    "\n",
    "delw = 2*np.pi*np.linspace(-81, -78, 3000);\n",
    "\n",
    "kappa = np.pi*30; # Cavity loss rate - note we assume the only loss channels are to the input and output waveguides\n",
    "kappa_a = kappa/2; # Input 'mirror' coupling rate\n",
    "kappa_b = kappa/2; # Output 'mirror' coupling rate\n",
    "\n",
    "g = 2*np.pi*7.3; # Cavity-'atom' coupling rate\n",
    "g1 = g; # Both SiV- (1)\n",
    "g2 = g; # and SiV- (2) have the same coupling rate\n",
    "\n",
    "Del = 2*np.pi*78.6; # Detuning between the centre of mass frequency and the cavity resonance\n",
    "delta = -2*np.pi*0.56; # Detuning between the two SiV- centres\n",
    "\n",
    "gamma = 2*np.pi*0.19; # 'Atom' loss rate\n",
    "gamma1 = gamma; # Both SiV- (1)\n",
    "gamma2 = gamma; # and SiV- (2) have the same coupling rate\n",
    "\n",
    "# Leakage of coherent laser light into the detection path adds a noise term\n",
    "# modelled by the parameters A and theta, the amplitude and phase of the background light, respectively\n",
    "A = 0.31;\n",
    "theta = -0.76;\n",
    "\n",
    "# Complex denominator for the transmission function\n",
    "D = 1j*(delw) + (kappa_a + kappa_b)/2 - np.absolute(g1)**2/(-1j*(delw + Del - delta/2)-gamma1/2) - np.absolute(g2)**2/(-1j*(delw + Del + delta/2)-gamma2/2);\n",
    " \n",
    "t = np.sqrt(kappa_a*kappa_b)/D; # Field transmission function\n",
    "T = np.absolute(t+A*np.exp(1j*theta))**2; # Intensity transmission function\n",
    "\n",
    "r = kappa_a/D - 1; # Field reflection function\n",
    "R = np.absolute(r)**2; # Intensity reflection function\n",
    "\n",
    "fig = plt.figure(figsize=(8, 4))\n",
    "plt.rc('font', size=16)\n",
    "\n",
    "plt.plot(delw/(2*np.pi),T/np.max(T))\n",
    "# plt.plot(delw/(2*np.pi),R/np.max(R))\n",
    "\n",
    "plt.xlabel(r'Frequency (GHz)')\n",
    "plt.ylabel(r'Relative transmission')\n",
    "\n",
    "plt.ylim(0, 1.05)\n",
    "\n",
    "fig.tight_layout()"
   ]
  },
  {
   "cell_type": "code",
   "execution_count": null,
   "metadata": {},
   "outputs": [],
   "source": []
  }
 ],
 "metadata": {
  "kernelspec": {
   "display_name": "Python 3",
   "language": "python",
   "name": "python3"
  },
  "language_info": {
   "codemirror_mode": {
    "name": "ipython",
    "version": 3
   },
   "file_extension": ".py",
   "mimetype": "text/x-python",
   "name": "python",
   "nbconvert_exporter": "python",
   "pygments_lexer": "ipython3",
   "version": "3.7.6"
  }
 },
 "nbformat": 4,
 "nbformat_minor": 4
}
