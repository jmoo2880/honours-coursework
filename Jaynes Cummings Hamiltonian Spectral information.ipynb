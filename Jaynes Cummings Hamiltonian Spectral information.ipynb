{
 "cells": [
  {
   "cell_type": "markdown",
   "metadata": {},
   "source": [
    "# The Jaynes-Cummings model with damping - frequency domain\n",
    "\n",
    "In this notebook you will build upon what you've done with Qutip in Module 1. The aspect that this notebook will focus on is a frequency domain picture of a coupled 'atom'-cavity system."
   ]
  },
  {
   "cell_type": "markdown",
   "metadata": {},
   "source": [
    "### Exercise 1:\n",
    "\n",
    "Let's return to the Jaynes-Cummings model from Notebook 1\n",
    "\n",
    "$$\n",
    "H_{JC} = \\omega_c a^{\\dagger} a + \\frac{\\omega_a}{2} \\sigma_z + g (a \\sigma_+ + a^\\dagger \\sigma_-).\n",
    "$$\n",
    "\n",
    "What we are interested in is the spectrum of the coupled 'atom'-cavity system as a function of $\\delta = \\omega_a - \\omega_c$.\n",
    "\n",
    "Use qutip to define $H_{JC}$, using the following parameters:\n",
    "\n",
    "$\\omega_c = 1$, $\\delta = 0$, and $g = 1$. Also, use a truncation of nmax = 2.\n",
    "\n",
    "Now define three collapse operators (see Extra Notebook 1 - Damping for more information about collapse operators):\n",
    "\n",
    "$\\sqrt{\\kappa(1+n_{th})} a$, $\\sqrt{\\kappa(n_{th})} a^\\dagger$ and $\\sqrt{\\gamma} \\sigma_-$\n",
    "\n",
    "using $\\kappa = 10$, $\\gamma = 0$, and $n_{th} = 0.25$. Here $n_{th}$ is the average number of quanta of the reservoir in the mode of frequency $ω_c$, so $n_{th} \\neq 0$ allows for a non-zero temperature of the reservoir.\n",
    "\n",
    "The spectrum of the coupled system as a function of frequency can be written as the Fourier transformation of a correlator:\n",
    "\n",
    "$$S(\\omega) = \\displaystyle\\int_\\infty^\\infty \\langle a^{\\dagger}(\\tau) a(0) \\rangle e^{-i\\omega \\tau} d\\tau$$\n",
    "\n",
    "The correlation $\\langle a^{\\dagger}(\\tau) a(0) \\rangle$ can be calculated using the function correlation_2op_1t in qutip, and the Fourier transform by spectrum_correlation_fft.\n",
    "\n",
    "Plot the output function $S(\\omega)$ as a function of $\\delta$."
   ]
  },
  {
   "cell_type": "code",
   "execution_count": 129,
   "metadata": {},
   "outputs": [
    {
     "name": "stdout",
     "output_type": "stream",
     "text": [
      "Help on function correlation_2op_1t in module qutip.correlation:\n",
      "\n",
      "correlation_2op_1t(H, state0, taulist, c_ops, a_op, b_op, solver='me', reverse=False, args={}, options=<qutip.solver.Options object at 0x000001A0874723C8>)\n",
      "    Calculate the two-operator two-time correlation function:\n",
      "    :math:`\\left<A(t+\\tau)B(t)\\right>`\n",
      "    along one time axis using the quantum regression theorem and the evolution\n",
      "    solver indicated by the `solver` parameter.\n",
      "    \n",
      "    Parameters\n",
      "    ----------\n",
      "    \n",
      "    H : Qobj\n",
      "        system Hamiltonian, may be time-dependent for solver choice of `me` or\n",
      "        `mc`.\n",
      "    state0 : Qobj\n",
      "        Initial state density matrix :math:`\\rho(t_0)` or state vector\n",
      "        :math:`\\psi(t_0)`. If 'state0' is 'None', then the steady state will\n",
      "        be used as the initial state. The 'steady-state' is only implemented\n",
      "        for the `me` and `es` solvers.\n",
      "    taulist : array_like\n",
      "        list of times for :math:`\\tau`. taulist must be positive and contain\n",
      "        the element `0`.\n",
      "    c_ops : list\n",
      "        list of collapse operators, may be time-dependent for solver choice of\n",
      "        `me` or `mc`.\n",
      "    a_op : Qobj\n",
      "        operator A.\n",
      "    b_op : Qobj\n",
      "        operator B.\n",
      "    reverse : bool {False, True}\n",
      "        If `True`, calculate :math:`\\left<A(t)B(t+\\tau)\\right>` instead of\n",
      "        :math:`\\left<A(t+\\tau)B(t)\\right>`.\n",
      "    solver : str {'me', 'mc', 'es'}\n",
      "        choice of solver (`me` for master-equation, `mc` for Monte Carlo, and\n",
      "        `es` for exponential series).\n",
      "    options : Options\n",
      "        Solver options class. `ntraj` is taken as a two-element list because\n",
      "        the `mc` correlator calls `mcsolve()` recursively; by default,\n",
      "        `ntraj=[20, 100]`. `mc_corr_eps` prevents divide-by-zero errors in\n",
      "        the `mc` correlator; by default, `mc_corr_eps=1e-10`.\n",
      "    \n",
      "    Returns\n",
      "    -------\n",
      "    corr_vec : ndarray\n",
      "        An array of correlation values for the times specified by `tlist`.\n",
      "    \n",
      "    References\n",
      "    ----------\n",
      "    See, Gardiner, Quantum Noise, Section 5.2.\n",
      "\n",
      "Help on function spectrum_correlation_fft in module qutip.correlation:\n",
      "\n",
      "spectrum_correlation_fft(tlist, y, inverse=False)\n",
      "    Calculate the power spectrum corresponding to a two-time correlation\n",
      "    function using FFT.\n",
      "    \n",
      "    Parameters\n",
      "    ----------\n",
      "    tlist : array_like\n",
      "        list/array of times :math:`t` which the correlation function is given.\n",
      "    y : array_like\n",
      "        list/array of correlations corresponding to time delays :math:`t`.\n",
      "    inverse: boolean\n",
      "        boolean parameter for using a positive exponent in the Fourier Transform instead. Default is False.\n",
      "    \n",
      "    Returns\n",
      "    -------\n",
      "    w, S : tuple\n",
      "        Returns an array of angular frequencies 'w' and the corresponding\n",
      "        two-sided power spectrum 'S(w)'.\n",
      "\n"
     ]
    }
   ],
   "source": [
    "import numpy as np\n",
    "import matplotlib.pyplot as plt\n",
    "\n",
    "import qutip as qt\n",
    "\n",
    "%matplotlib inline\n",
    "\n",
    "help(qt.correlation_2op_1t)\n",
    "help(qt.spectrum_correlation_fft)"
   ]
  },
  {
   "cell_type": "code",
   "execution_count": null,
   "metadata": {},
   "outputs": [],
   "source": []
  },
  {
   "cell_type": "markdown",
   "metadata": {},
   "source": [
    "### Exercise 2:\n",
    "\n",
    "Repeat Exercise 1 for the different values in the table in the previous notebook:\n",
    "\n",
    "|       | $\\Delta$ | $g$ | $\\kappa$ | $\\gamma$ |\n",
    "|-------|------|------|------|------\n",
    "| Set I | 0    |   1  |  10  |  0   |\n",
    "| Set II | 0    |  1   |  0   |  10  |\n",
    "| Set III | 0    | 10  | 1  | 1  |\n",
    "\n",
    "What is your interpretation of the case where $\\kappa = 0$ ? What happens if you make $\\kappa$ very small rather than exactly 0?\n",
    "\n",
    "What happens if you change the value of nmax in Set III?"
   ]
  },
  {
   "cell_type": "code",
   "execution_count": null,
   "metadata": {},
   "outputs": [],
   "source": []
  },
  {
   "cell_type": "markdown",
   "metadata": {},
   "source": [
    "### Exercise 3:\n",
    "\n",
    "Build on Exercises 1 and 2 to create a 2D plot with frequency on the horizontal axis and $\\delta$ on the vertical axis like the example below, where I have normalised $S(\\omega)$:\n",
    "\n",
    "<img src=\"Example_spectrum.png\">\n",
    "\n",
    "Use the parameters: $g = \\kappa = \\gamma = 1$.\n"
   ]
  },
  {
   "cell_type": "code",
   "execution_count": null,
   "metadata": {},
   "outputs": [],
   "source": []
  }
 ],
 "metadata": {
  "kernelspec": {
   "display_name": "Python 3",
   "language": "python",
   "name": "python3"
  },
  "language_info": {
   "codemirror_mode": {
    "name": "ipython",
    "version": 3
   },
   "file_extension": ".py",
   "mimetype": "text/x-python",
   "name": "python",
   "nbconvert_exporter": "python",
   "pygments_lexer": "ipython3",
   "version": "3.7.6"
  }
 },
 "nbformat": 4,
 "nbformat_minor": 4
}
