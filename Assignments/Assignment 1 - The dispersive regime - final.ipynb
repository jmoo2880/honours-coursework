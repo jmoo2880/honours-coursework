{
 "cells": [
  {
   "cell_type": "markdown",
   "metadata": {},
   "source": [
    "# The dispersive regime of the Jaynes Cummings model\n",
    "\n",
    "In this Assignment we will investigate the dispersive approximation to the JC model in more detail. The assignment consists of 2 parts: Part I is an analytical derivation \\& Part II is a numerical exercise using Qutip.\n",
    "\n",
    "## Part I : Analytical question (10 marks)\n",
    "\n",
    "Consider the Jaynes-Cumming Hamiltonian\n",
    "\n",
    "$$\n",
    "H/\\hbar = \\omega_r a^\\dagger a + \\frac{\\omega_a}{2} \\sigma_z + g(a \\sigma_+ + a^\\dagger \\sigma_-).\n",
    "$$\n",
    "\n",
    "Let $U^\\dagger=\\exp\\left[-\\alpha a^\\dagger \\sigma_- + \\alpha a \\sigma_+\\right]$ with $\\alpha = g/\\Delta$, $\\Delta = \\omega_a - \\omega_r$. \n",
    "\n",
    "Use the Baker-Campbell-Hausdorff formula\n",
    "\n",
    "$$\n",
    "    e^{S} H e^{-S} = H + [S, H] + \\frac12 [S, [S, H]] + \\dots,\n",
    "$$\n",
    "\n",
    "to derive the dispersive approximation\n",
    "\n",
    "$$\n",
    "U^\\dagger H U / \\hbar \\simeq \\omega_r a^\\dagger a + \\frac{\\omega_a + \\chi}{2} \\sigma_z + \\chi a^\\dagger a \\sigma_z + \\text{const.},\n",
    "$$\n",
    "\n",
    "where $\\chi = g^2/\\Delta$ and the last constant term is unimportant.\n",
    "\n",
    "\n",
    "Hint: To arrive at the correct form, terms multiplied with $\\omega_r$ and $\\omega_a$ need to be expanded to second order in $\\alpha$, while terms multiplied by $g$ can be expanded only to first order.\n",
    "\n",
    "Insert your solution below."
   ]
  },
  {
   "cell_type": "markdown",
   "metadata": {},
   "source": [
    "1. __Import the following__:"
   ]
  },
  {
   "cell_type": "code",
   "execution_count": 76,
   "metadata": {},
   "outputs": [],
   "source": [
    "import sympy as smp\n",
    "from sympy.physics.quantum.boson import BosonOp\n",
    "from sympy.physics.quantum import pauli, Dagger, Commutator, UnitaryOperator\n",
    "from sympy.physics.quantum.operatorordering import normal_ordered_form\n",
    "smp.init_printing(use_unicode=True)"
   ]
  },
  {
   "cell_type": "markdown",
   "metadata": {},
   "source": [
    "## Define operators, constants"
   ]
  },
  {
   "cell_type": "code",
   "execution_count": 77,
   "metadata": {},
   "outputs": [],
   "source": [
    "# define annihilation operator\n",
    "a = BosonOp('a')\n",
    "\n",
    "# Pauli matricies\n",
    "sx = pauli.SigmaX()\n",
    "sy = pauli.SigmaY()\n",
    "sz = pauli.SigmaZ()\n",
    "\n",
    "# define constants\n",
    "alpha = smp.Symbol('alpha', real=True)\n",
    "chi = smp.Symbol('chi', real=True)\n",
    "wr = smp.Symbol('omega_r', real=True)\n",
    "wa = smp.Symbol('omega_a', real=True)\n",
    "g = smp.Symbol('g', real=True)\n",
    "Delta = smp.Symbol('Delta', real=True)\n",
    "\n",
    "# qubit raising and lowering operators\n",
    "splus = pauli.SigmaPlus()\n",
    "sminus = pauli.SigmaMinus()\n"
   ]
  },
  {
   "cell_type": "markdown",
   "metadata": {},
   "source": [
    "## Define JC Hamiltonian"
   ]
  },
  {
   "cell_type": "code",
   "execution_count": 78,
   "metadata": {},
   "outputs": [
    {
     "data": {
      "image/png": "[encoded data removed]",
      "text/latex": [
       "$\\displaystyle g \\left({{a}^\\dagger} {\\sigma_-} + {a} {\\sigma_+}\\right) + \\frac{\\omega_{a} {\\sigma_z}}{2} + \\omega_{r} {{a}^\\dagger} {a}$"
      ],
      "text/plain": [
       "  ⎛ †                ⎞   ωₐ⋅False       †  \n",
       "g⋅⎝a ⋅False + a⋅False⎠ + ──────── + ωᵣ⋅a ⋅a\n",
       "                            2              "
      ]
     },
     "execution_count": 78,
     "metadata": {},
     "output_type": "execute_result"
    }
   ],
   "source": [
    "HJC = wr * Dagger(a) * a + wa/2 * sz + g*(a * splus + Dagger(a) * sminus)\n",
    "HJC"
   ]
  },
  {
   "cell_type": "markdown",
   "metadata": {},
   "source": [
    "#### Let $U^{\\dagger} = e^{-\\alpha a^{\\dagger} \\sigma_{-} + \\alpha a \\sigma_{+}}$ where $S = -\\alpha a^{\\dagger} \\sigma_{-} + \\alpha a \\sigma_{+}$"
   ]
  },
  {
   "cell_type": "code",
   "execution_count": 79,
   "metadata": {},
   "outputs": [
    {
     "data": {
      "image/png": "[encoded data removed]",
      "text/latex": [
       "$\\displaystyle - \\alpha {{a}^\\dagger} {\\sigma_-} + \\alpha {a} {\\sigma_+}$"
      ],
      "text/plain": [
       "     †                  \n",
       "- α⋅a ⋅False + α⋅a⋅False"
      ]
     },
     "execution_count": 79,
     "metadata": {},
     "output_type": "execute_result"
    }
   ],
   "source": [
    "s = -alpha * Dagger(a) * sminus + alpha * a * splus\n",
    "s"
   ]
  },
  {
   "cell_type": "markdown",
   "metadata": {},
   "source": [
    "## Evaluate relevant commutators:"
   ]
  },
  {
   "cell_type": "markdown",
   "metadata": {},
   "source": [
    "1. [S, H]"
   ]
  },
  {
   "cell_type": "code",
   "execution_count": 80,
   "metadata": {},
   "outputs": [
    {
     "data": {
      "image/png": "[encoded data removed]",
      "text/latex": [
       "$\\displaystyle - 2 \\alpha g {{a}^\\dagger} {a} \\left[{\\sigma_-},{\\sigma_+}\\right] + 2 \\alpha g {{a}^\\dagger} \\left[{a},{\\sigma_-}\\right] {\\sigma_+} - 2 \\alpha g {a} \\left[{{a}^\\dagger},{\\sigma_+}\\right] {\\sigma_-} - 2 \\alpha g \\left[{{a}^\\dagger},{a}\\right] {\\sigma_+} {\\sigma_-} - \\frac{\\alpha \\omega_{a} {{a}^\\dagger} \\left[{\\sigma_-},{\\sigma_z}\\right]}{2} + \\frac{\\alpha \\omega_{a} {a} \\left[{\\sigma_+},{\\sigma_z}\\right]}{2} - \\frac{\\alpha \\omega_{a} \\left[{{a}^\\dagger},{\\sigma_z}\\right] {\\sigma_-}}{2} + \\frac{\\alpha \\omega_{a} \\left[{a},{\\sigma_z}\\right] {\\sigma_+}}{2} - \\alpha \\omega_{r} {{a}^\\dagger} {a} \\left[{a},{\\sigma_+}\\right] - \\alpha \\omega_{r} {{a}^\\dagger} \\left[{{a}^\\dagger},{a}\\right] {\\sigma_-} + \\alpha \\omega_{r} {{a}^\\dagger} \\left[{{a}^\\dagger},{\\sigma_-}\\right] {a} + \\alpha \\omega_{r} {{a}^\\dagger}^{2} \\left[{a},{\\sigma_-}\\right] - \\alpha \\omega_{r} {a} \\left[{{a}^\\dagger},{\\sigma_+}\\right] {a} - \\alpha \\omega_{r} \\left[{{a}^\\dagger},{a}\\right] {\\sigma_+} {a}$"
      ],
      "text/plain": [
       "                                                                              \n",
       "         †                          †                           ⎡ †      ⎤    \n",
       "- 2⋅α⋅g⋅a ⋅a⋅[False,False] + 2⋅α⋅g⋅a ⋅[a,False]⋅False - 2⋅α⋅g⋅a⋅⎣a ,False⎦⋅Fal\n",
       "                                                                              \n",
       "\n",
       "                                      †                                       \n",
       "           ⎡ †  ⎤               α⋅ωₐ⋅a ⋅[False,False]   α⋅ωₐ⋅a⋅[False,False]  \n",
       "se - 2⋅α⋅g⋅⎣a ,a⎦⋅False⋅False - ───────────────────── + ──────────────────── -\n",
       "                                          2                      2            \n",
       "\n",
       "      ⎡ †      ⎤                                                              \n",
       " α⋅ωₐ⋅⎣a ,False⎦⋅False   α⋅ωₐ⋅[a,False]⋅False         †                     † \n",
       " ───────────────────── + ──────────────────── - α⋅ωᵣ⋅a ⋅a⋅[a,False] - α⋅ωᵣ⋅a ⋅\n",
       "           2                      2                                           \n",
       "\n",
       "                                               2                              \n",
       "⎡ †  ⎤               † ⎡ †      ⎤          ⎛ †⎞                     ⎡ †      ⎤\n",
       "⎣a ,a⎦⋅False + α⋅ωᵣ⋅a ⋅⎣a ,False⎦⋅a + α⋅ωᵣ⋅⎝a ⎠ ⋅[a,False] - α⋅ωᵣ⋅a⋅⎣a ,False⎦\n",
       "                                                                              \n",
       "\n",
       "                        \n",
       "          ⎡ †  ⎤        \n",
       "⋅a - α⋅ωᵣ⋅⎣a ,a⎦⋅False⋅a\n",
       "                        "
      ]
     },
     "execution_count": 80,
     "metadata": {},
     "output_type": "execute_result"
    }
   ],
   "source": [
    "comm_S_H = Commutator(s, HJC)\n",
    "comm_S_H = comm_S_H.expand(commutator=True).expand(commutator=True).expand(commutator=True).expand(commutator=True)\n",
    "comm_S_H"
   ]
  },
  {
   "cell_type": "markdown",
   "metadata": {},
   "source": [
    "Evaluate:"
   ]
  },
  {
   "cell_type": "code",
   "execution_count": 81,
   "metadata": {},
   "outputs": [
    {
     "data": {
      "image/png": "[encoded data removed]",
      "text/latex": [
       "$\\displaystyle 2 \\alpha g {{a}^\\dagger} {a} {\\sigma_z} + 2 \\alpha g {\\sigma_+} {\\sigma_-} - \\alpha \\omega_{a} {{a}^\\dagger} {\\sigma_-} - \\alpha \\omega_{a} {a} {\\sigma_+} + \\alpha \\omega_{r} {{a}^\\dagger} {\\sigma_-} + \\alpha \\omega_{r} {\\sigma_+} {a}$"
      ],
      "text/plain": [
       "       †                                     †                              † \n",
       "2⋅α⋅g⋅a ⋅a⋅False + 2⋅α⋅g⋅False⋅False - α⋅ωₐ⋅a ⋅False - α⋅ωₐ⋅a⋅False + α⋅ωᵣ⋅a ⋅\n",
       "\n",
       "                    \n",
       "False + α⋅ωᵣ⋅False⋅a"
      ]
     },
     "execution_count": 81,
     "metadata": {},
     "output_type": "execute_result"
    }
   ],
   "source": [
    "comm_S_H = comm_S_H.doit()\n",
    "comm_S_H"
   ]
  },
  {
   "cell_type": "markdown",
   "metadata": {},
   "source": [
    "2. [S, [S, H]]\n"
   ]
  },
  {
   "cell_type": "code",
   "execution_count": 82,
   "metadata": {},
   "outputs": [
    {
     "data": {
      "image/png": "[encoded data removed]",
      "text/latex": [
       "$\\displaystyle - 2 \\alpha^{2} g {{a}^\\dagger} {a} \\left[{{a}^\\dagger},{\\sigma_z}\\right] {\\sigma_-} + 2 \\alpha^{2} g {{a}^\\dagger} {a} \\left[{a},{\\sigma_z}\\right] {\\sigma_+} - 2 \\alpha^{2} g {{a}^\\dagger} \\left[{{a}^\\dagger},{a}\\right] {\\sigma_z} {\\sigma_-} + 2 \\alpha^{2} g {{a}^\\dagger} \\left[{{a}^\\dagger},{\\sigma_-}\\right] {a} {\\sigma_z} - 2 \\alpha^{2} g {{a}^\\dagger} \\left[{\\sigma_-},{\\sigma_+}\\right] {\\sigma_-} - 2 \\alpha^{2} g {{a}^\\dagger}^{2} {a} \\left[{\\sigma_-},{\\sigma_z}\\right] + 2 \\alpha^{2} g {{a}^\\dagger}^{2} \\left[{a},{\\sigma_-}\\right] {\\sigma_z} + 2 \\alpha^{2} g {a} {{a}^\\dagger} {a} \\left[{\\sigma_+},{\\sigma_z}\\right] - 2 \\alpha^{2} g {a} {{a}^\\dagger} \\left[{a},{\\sigma_+}\\right] {\\sigma_z} - 2 \\alpha^{2} g {a} \\left[{{a}^\\dagger},{\\sigma_+}\\right] {a} {\\sigma_z} - 2 \\alpha^{2} g {a} {\\sigma_+} \\left[{\\sigma_-},{\\sigma_+}\\right] - 2 \\alpha^{2} g \\left[{{a}^\\dagger},{a}\\right] {a} {\\sigma_z} {\\sigma_+} + 2 \\alpha^{2} g \\left[{a},{\\sigma_+}\\right] {\\sigma_-} {\\sigma_+} - 2 \\alpha^{2} g {\\sigma_+} \\left[{{a}^\\dagger},{\\sigma_-}\\right] {\\sigma_-} + 2 \\alpha^{2} g {\\sigma_+} \\left[{a},{\\sigma_-}\\right] {\\sigma_+} + 2 \\alpha^{2} \\omega_{a} {{a}^\\dagger} {a} \\left[{\\sigma_-},{\\sigma_+}\\right] - 2 \\alpha^{2} \\omega_{a} {{a}^\\dagger} \\left[{a},{\\sigma_-}\\right] {\\sigma_+} + 2 \\alpha^{2} \\omega_{a} {a} \\left[{{a}^\\dagger},{\\sigma_+}\\right] {\\sigma_-} + 2 \\alpha^{2} \\omega_{a} \\left[{{a}^\\dagger},{a}\\right] {\\sigma_+} {\\sigma_-} - \\alpha^{2} \\omega_{r} {{a}^\\dagger} {a} \\left[{\\sigma_-},{\\sigma_+}\\right] + \\alpha^{2} \\omega_{r} {{a}^\\dagger} \\left[{a},{\\sigma_-}\\right] {\\sigma_+} - \\alpha^{2} \\omega_{r} {{a}^\\dagger} \\left[{\\sigma_-},{\\sigma_+}\\right] {a} + \\alpha^{2} \\omega_{r} {{a}^\\dagger} {\\sigma_+} \\left[{a},{\\sigma_-}\\right] - \\alpha^{2} \\omega_{r} {a} \\left[{{a}^\\dagger},{\\sigma_+}\\right] {\\sigma_-} - \\alpha^{2} \\omega_{r} {a} {\\sigma_+} \\left[{a},{\\sigma_+}\\right] - \\alpha^{2} \\omega_{r} \\left[{{a}^\\dagger},{a}\\right] {\\sigma_+} {\\sigma_-} - \\alpha^{2} \\omega_{r} \\left[{{a}^\\dagger},{\\sigma_+}\\right] {a} {\\sigma_-} + \\alpha^{2} \\omega_{r} \\left[{a},{\\sigma_+}\\right] {a} {\\sigma_+} - \\alpha^{2} \\omega_{r} {\\sigma_+} \\left[{{a}^\\dagger},{a}\\right] {\\sigma_-}$"
      ],
      "text/plain": [
       "                                                                              \n",
       "     2    †   ⎡ †      ⎤            2    †                        2    † ⎡ †  \n",
       "- 2⋅α ⋅g⋅a ⋅a⋅⎣a ,False⎦⋅False + 2⋅α ⋅g⋅a ⋅a⋅[a,False]⋅False - 2⋅α ⋅g⋅a ⋅⎣a ,a\n",
       "\n",
       "                                                                              \n",
       "⎤                  2    † ⎡ †      ⎤              2    †                      \n",
       "⎦⋅False⋅False + 2⋅α ⋅g⋅a ⋅⎣a ,False⎦⋅a⋅False - 2⋅α ⋅g⋅a ⋅[False,False]⋅False -\n",
       "\n",
       "            2                              2                                  \n",
       "    2   ⎛ †⎞                       2   ⎛ †⎞                       2      †    \n",
       " 2⋅α ⋅g⋅⎝a ⎠ ⋅a⋅[False,False] + 2⋅α ⋅g⋅⎝a ⎠ ⋅[a,False]⋅False + 2⋅α ⋅g⋅a⋅a ⋅a⋅[\n",
       "\n",
       "                                                                              \n",
       "                  2      †                      2     ⎡ †      ⎤              \n",
       "False,False] - 2⋅α ⋅g⋅a⋅a ⋅[a,False]⋅False - 2⋅α ⋅g⋅a⋅⎣a ,False⎦⋅a⋅False - 2⋅α\n",
       "\n",
       "                                                                              \n",
       "2                              2   ⎡ †  ⎤                    2                \n",
       " ⋅g⋅a⋅False⋅[False,False] - 2⋅α ⋅g⋅⎣a ,a⎦⋅a⋅False⋅False + 2⋅α ⋅g⋅[a,False]⋅Fal\n",
       "\n",
       "                                                                              \n",
       "              2         ⎡ †      ⎤            2                              2\n",
       "se⋅False - 2⋅α ⋅g⋅False⋅⎣a ,False⎦⋅False + 2⋅α ⋅g⋅False⋅[a,False]⋅False + 2⋅α \n",
       "\n",
       "                                                                              \n",
       "     †                      2     †                      2      ⎡ †      ⎤    \n",
       "⋅ωₐ⋅a ⋅a⋅[False,False] - 2⋅α ⋅ωₐ⋅a ⋅[a,False]⋅False + 2⋅α ⋅ωₐ⋅a⋅⎣a ,False⎦⋅Fal\n",
       "\n",
       "                                                                              \n",
       "        2    ⎡ †  ⎤                2     †                    2     †         \n",
       "se + 2⋅α ⋅ωₐ⋅⎣a ,a⎦⋅False⋅False - α ⋅ωᵣ⋅a ⋅a⋅[False,False] + α ⋅ωᵣ⋅a ⋅[a,False\n",
       "\n",
       "                                                                              \n",
       "           2     †                    2     †                    2      ⎡ †   \n",
       "]⋅False - α ⋅ωᵣ⋅a ⋅[False,False]⋅a + α ⋅ωᵣ⋅a ⋅False⋅[a,False] - α ⋅ωᵣ⋅a⋅⎣a ,Fa\n",
       "\n",
       "                                                                              \n",
       "   ⎤          2                         2    ⎡ †  ⎤                2    ⎡ †   \n",
       "lse⎦⋅False - α ⋅ωᵣ⋅a⋅False⋅[a,False] - α ⋅ωᵣ⋅⎣a ,a⎦⋅False⋅False - α ⋅ωᵣ⋅⎣a ,Fa\n",
       "\n",
       "                                                                 \n",
       "   ⎤            2                         2          ⎡ †  ⎤      \n",
       "lse⎦⋅a⋅False + α ⋅ωᵣ⋅[a,False]⋅a⋅False - α ⋅ωᵣ⋅False⋅⎣a ,a⎦⋅False"
      ]
     },
     "execution_count": 82,
     "metadata": {},
     "output_type": "execute_result"
    }
   ],
   "source": [
    "comm_S_S_H = Commutator(s, comm_S_H)\n",
    "comm_S_S_H = comm_S_S_H.expand(commutator=True).expand(commutator=True).expand(commutator=True).expand(commutator=True)\n",
    "comm_S_S_H"
   ]
  },
  {
   "cell_type": "code",
   "execution_count": 83,
   "metadata": {},
   "outputs": [
    {
     "data": {
      "image/png": "[encoded data removed]",
      "text/latex": [
       "$\\displaystyle 4 \\alpha^{2} g {{a}^\\dagger} {\\sigma_z} {\\sigma_-} - 4 \\alpha^{2} g {{a}^\\dagger}^{2} {a} {\\sigma_-} - 4 \\alpha^{2} g {a} {{a}^\\dagger} {a} {\\sigma_+} + 2 \\alpha^{2} g {a} {\\sigma_+} {\\sigma_z} + 2 \\alpha^{2} g {a} {\\sigma_z} {\\sigma_+} - 2 \\alpha^{2} \\omega_{a} {{a}^\\dagger} {a} {\\sigma_z} - 2 \\alpha^{2} \\omega_{a} {\\sigma_+} {\\sigma_-} + \\alpha^{2} \\omega_{r} {{a}^\\dagger} {a} {\\sigma_z} + \\alpha^{2} \\omega_{r} {{a}^\\dagger} {\\sigma_z} {a} + 2 \\alpha^{2} \\omega_{r} {\\sigma_+} {\\sigma_-}$"
      ],
      "text/plain": [
       "                                   2                                          \n",
       "   2    †                  2   ⎛ †⎞               2      †              2     \n",
       "4⋅α ⋅g⋅a ⋅False⋅False - 4⋅α ⋅g⋅⎝a ⎠ ⋅a⋅False - 4⋅α ⋅g⋅a⋅a ⋅a⋅False + 2⋅α ⋅g⋅a⋅\n",
       "\n",
       "                                                                              \n",
       "                 2                      2     †              2                \n",
       "False⋅False + 2⋅α ⋅g⋅a⋅False⋅False - 2⋅α ⋅ωₐ⋅a ⋅a⋅False - 2⋅α ⋅ωₐ⋅False⋅False \n",
       "\n",
       "                                                           \n",
       "   2     †            2     †              2               \n",
       "+ α ⋅ωᵣ⋅a ⋅a⋅False + α ⋅ωᵣ⋅a ⋅False⋅a + 2⋅α ⋅ωᵣ⋅False⋅False"
      ]
     },
     "execution_count": 83,
     "metadata": {},
     "output_type": "execute_result"
    }
   ],
   "source": [
    "comm_S_S_H = comm_S_S_H.doit()\n",
    "comm_S_S_H"
   ]
  },
  {
   "cell_type": "markdown",
   "metadata": {},
   "source": [
    "Terms multiplied by g only need to be expanded to first order in $\\alpha$"
   ]
  },
  {
   "cell_type": "code",
   "execution_count": 84,
   "metadata": {},
   "outputs": [
    {
     "data": {
      "image/png": "[encoded data removed]",
      "text/latex": [
       "$\\displaystyle - 2 \\alpha^{2} \\omega_{a} {{a}^\\dagger} {a} {\\sigma_z} - 2 \\alpha^{2} \\omega_{a} {\\sigma_+} {\\sigma_-} + \\alpha^{2} \\omega_{r} {{a}^\\dagger} {a} {\\sigma_z} + \\alpha^{2} \\omega_{r} {{a}^\\dagger} {\\sigma_z} {a} + 2 \\alpha^{2} \\omega_{r} {\\sigma_+} {\\sigma_-} + g \\left(4 \\alpha^{2} {{a}^\\dagger} {\\sigma_z} {\\sigma_-} - 4 \\alpha^{2} {{a}^\\dagger}^{2} {a} {\\sigma_-} - 4 \\alpha^{2} {a} {{a}^\\dagger} {a} {\\sigma_+} + 2 \\alpha^{2} {a} {\\sigma_+} {\\sigma_z} + 2 \\alpha^{2} {a} {\\sigma_z} {\\sigma_+}\\right)$"
      ],
      "text/plain": [
       "                                                                              \n",
       "     2     †              2                   2     †            2     †      \n",
       "- 2⋅α ⋅ωₐ⋅a ⋅a⋅False - 2⋅α ⋅ωₐ⋅False⋅False + α ⋅ωᵣ⋅a ⋅a⋅False + α ⋅ωᵣ⋅a ⋅False\n",
       "\n",
       "                             ⎛                               2                \n",
       "        2                    ⎜   2  †                  2 ⎛ †⎞               2 \n",
       "⋅a + 2⋅α ⋅ωᵣ⋅False⋅False + g⋅⎝4⋅α ⋅a ⋅False⋅False - 4⋅α ⋅⎝a ⎠ ⋅a⋅False - 4⋅α ⋅\n",
       "\n",
       "                                                      ⎞\n",
       "   †              2                    2              ⎟\n",
       "a⋅a ⋅a⋅False + 2⋅α ⋅a⋅False⋅False + 2⋅α ⋅a⋅False⋅False⎠"
      ]
     },
     "execution_count": 84,
     "metadata": {},
     "output_type": "execute_result"
    }
   ],
   "source": [
    "test = smp.collect(comm_S_S_H, g)\n",
    "test"
   ]
  },
  {
   "cell_type": "code",
   "execution_count": 85,
   "metadata": {},
   "outputs": [
    {
     "data": {
      "image/png": "[encoded data removed]",
      "text/latex": [
       "$\\displaystyle - 2 \\alpha^{2} \\omega_{a} {{a}^\\dagger} {a} {\\sigma_z} - 2 \\alpha^{2} \\omega_{a} {\\sigma_+} {\\sigma_-} + \\alpha^{2} \\omega_{r} {{a}^\\dagger} {a} {\\sigma_z} + \\alpha^{2} \\omega_{r} {{a}^\\dagger} {\\sigma_z} {a} + 2 \\alpha^{2} \\omega_{r} {\\sigma_+} {\\sigma_-}$"
      ],
      "text/plain": [
       "     2     †              2                   2     †            2     †      \n",
       "- 2⋅α ⋅ωₐ⋅a ⋅a⋅False - 2⋅α ⋅ωₐ⋅False⋅False + α ⋅ωᵣ⋅a ⋅a⋅False + α ⋅ωᵣ⋅a ⋅False\n",
       "\n",
       "        2               \n",
       "⋅a + 2⋅α ⋅ωᵣ⋅False⋅False"
      ]
     },
     "execution_count": 85,
     "metadata": {},
     "output_type": "execute_result"
    }
   ],
   "source": [
    "comm_S_S_H = -2*alpha**2*wa*Dagger(a)*a*sz - 2*alpha**2*wa*splus*sminus + alpha**2*wr*Dagger(a)*a*sz + alpha**2*wr*Dagger(a)*sz*a + 2*alpha**2*wr*splus*sminus\n",
    "comm_S_S_H"
   ]
  },
  {
   "cell_type": "markdown",
   "metadata": {},
   "source": [
    "Now, putting these together we have H + [S, H] + 1/2 [S, [S, H]]"
   ]
  },
  {
   "cell_type": "code",
   "execution_count": 86,
   "metadata": {},
   "outputs": [
    {
     "data": {
      "image/png": "[encoded data removed]",
      "text/latex": [
       "$\\displaystyle - 1.0 \\alpha^{2} \\omega_{a} {{a}^\\dagger} {a} {\\sigma_z} - 1.0 \\alpha^{2} \\omega_{a} {\\sigma_+} {\\sigma_-} + 0.5 \\alpha^{2} \\omega_{r} {{a}^\\dagger} {a} {\\sigma_z} + 0.5 \\alpha^{2} \\omega_{r} {{a}^\\dagger} {\\sigma_z} {a} + 1.0 \\alpha^{2} \\omega_{r} {\\sigma_+} {\\sigma_-} + 2 \\alpha g {{a}^\\dagger} {a} {\\sigma_z} + 2 \\alpha g {\\sigma_+} {\\sigma_-} - \\alpha \\omega_{a} {{a}^\\dagger} {\\sigma_-} - \\alpha \\omega_{a} {a} {\\sigma_+} + \\alpha \\omega_{r} {{a}^\\dagger} {\\sigma_-} + \\alpha \\omega_{r} {\\sigma_+} {a} + g {{a}^\\dagger} {\\sigma_-} + g {a} {\\sigma_+} + \\frac{\\omega_{a} {\\sigma_z}}{2} + \\omega_{r} {{a}^\\dagger} {a}$"
      ],
      "text/plain": [
       "   2     †            2                       2     †                2     †  \n",
       "- α ⋅ωₐ⋅a ⋅a⋅False - α ⋅ωₐ⋅False⋅False + 0.5⋅α ⋅ωᵣ⋅a ⋅a⋅False + 0.5⋅α ⋅ωᵣ⋅a ⋅F\n",
       "                                                                              \n",
       "\n",
       "              2                         †                                     \n",
       "alse⋅a + 1.0⋅α ⋅ωᵣ⋅False⋅False + 2⋅α⋅g⋅a ⋅a⋅False + 2⋅α⋅g⋅False⋅False - α⋅ωₐ⋅a\n",
       "                                                                              \n",
       "\n",
       "†                              †                           †                  \n",
       " ⋅False - α⋅ωₐ⋅a⋅False + α⋅ωᵣ⋅a ⋅False + α⋅ωᵣ⋅False⋅a + g⋅a ⋅False + g⋅a⋅False\n",
       "                                                                              \n",
       "\n",
       "   ωₐ⋅False       †  \n",
       " + ──────── + ωᵣ⋅a ⋅a\n",
       "      2              "
      ]
     },
     "execution_count": 86,
     "metadata": {},
     "output_type": "execute_result"
    }
   ],
   "source": [
    "H_U = HJC + comm_S_H + 0.5*comm_S_S_H\n",
    "H_U = H_U.expand()\n",
    "H_U"
   ]
  },
  {
   "cell_type": "code",
   "execution_count": 87,
   "metadata": {},
   "outputs": [
    {
     "data": {
      "image/png": "[encoded data removed]",
      "text/latex": [
       "$\\displaystyle 2 \\chi {{a}^\\dagger} {a} {\\sigma_z} + 2 \\chi {\\sigma_+} {\\sigma_-} + g {{a}^\\dagger} {\\sigma_-} + g {a} {\\sigma_+} + \\frac{\\omega_{a} {\\sigma_z}}{2} + \\omega_{r} {{a}^\\dagger} {a} - \\frac{1.0 \\chi \\omega_{a} {{a}^\\dagger} {a} {\\sigma_z}}{\\Delta} - \\frac{1.0 \\chi \\omega_{a} {\\sigma_+} {\\sigma_-}}{\\Delta} + \\frac{0.5 \\chi \\omega_{r} {{a}^\\dagger} {a} {\\sigma_z}}{\\Delta} + \\frac{0.5 \\chi \\omega_{r} {{a}^\\dagger} {\\sigma_z} {a}}{\\Delta} + \\frac{1.0 \\chi \\omega_{r} {\\sigma_+} {\\sigma_-}}{\\Delta} - \\frac{g \\omega_{a} {{a}^\\dagger} {\\sigma_-}}{\\Delta} - \\frac{g \\omega_{a} {a} {\\sigma_+}}{\\Delta} + \\frac{g \\omega_{r} {{a}^\\dagger} {\\sigma_-}}{\\Delta} + \\frac{g \\omega_{r} {\\sigma_+} {a}}{\\Delta}$"
      ],
      "text/plain": [
       "                                                                              \n",
       "     †                                †                     ωₐ⋅False       †  \n",
       "2⋅χ⋅a ⋅a⋅False + 2⋅χ⋅False⋅False + g⋅a ⋅False + g⋅a⋅False + ──────── + ωᵣ⋅a ⋅a\n",
       "                                                               2              \n",
       "\n",
       "         †                                        †                     †     \n",
       "   χ⋅ωₐ⋅a ⋅a⋅False   χ⋅ωₐ⋅False⋅False   0.5⋅χ⋅ωᵣ⋅a ⋅a⋅False   0.5⋅χ⋅ωᵣ⋅a ⋅Fals\n",
       " - ─────────────── - ──────────────── + ─────────────────── + ────────────────\n",
       "          Δ                 Δ                    Δ                     Δ      \n",
       "\n",
       "                                   †                              †           \n",
       "e⋅a   1.0⋅χ⋅ωᵣ⋅False⋅False   g⋅ωₐ⋅a ⋅False   g⋅ωₐ⋅a⋅False   g⋅ωᵣ⋅a ⋅False   g⋅\n",
       "─── + ──────────────────── - ───────────── - ──────────── + ───────────── + ──\n",
       "               Δ                   Δ              Δ               Δ           \n",
       "\n",
       "          \n",
       "ωᵣ⋅False⋅a\n",
       "──────────\n",
       "   Δ      "
      ]
     },
     "execution_count": 87,
     "metadata": {},
     "output_type": "execute_result"
    }
   ],
   "source": [
    "H_U = H_U.subs(alpha, g/Delta)\n",
    "H_U = H_U.subs(g**2/Delta, chi)\n",
    "H_U"
   ]
  },
  {
   "cell_type": "code",
   "execution_count": 88,
   "metadata": {},
   "outputs": [
    {
     "data": {
      "image/png": "[encoded data removed]",
      "text/latex": [
       "$\\displaystyle 2 \\chi {{a}^\\dagger} {a} {\\sigma_z} + 2 \\chi {\\sigma_+} {\\sigma_-} + g \\left({{a}^\\dagger} {\\sigma_-} + {a} {\\sigma_+} - \\frac{\\omega_{a} {{a}^\\dagger} {\\sigma_-}}{\\Delta} - \\frac{\\omega_{a} {a} {\\sigma_+}}{\\Delta} + \\frac{\\omega_{r} {{a}^\\dagger} {\\sigma_-}}{\\Delta} + \\frac{\\omega_{r} {\\sigma_+} {a}}{\\Delta}\\right) + \\frac{\\omega_{a} {\\sigma_z}}{2} + \\omega_{r} {{a}^\\dagger} {a} - \\frac{1.0 \\chi \\omega_{a} {{a}^\\dagger} {a} {\\sigma_z}}{\\Delta} - \\frac{1.0 \\chi \\omega_{a} {\\sigma_+} {\\sigma_-}}{\\Delta} + \\frac{0.5 \\chi \\omega_{r} {{a}^\\dagger} {a} {\\sigma_z}}{\\Delta} + \\frac{0.5 \\chi \\omega_{r} {{a}^\\dagger} {\\sigma_z} {a}}{\\Delta} + \\frac{1.0 \\chi \\omega_{r} {\\sigma_+} {\\sigma_-}}{\\Delta}$"
      ],
      "text/plain": [
       "                                     ⎛                         †              \n",
       "     †                               ⎜ †                   ωₐ⋅a ⋅False   ωₐ⋅a⋅\n",
       "2⋅χ⋅a ⋅a⋅False + 2⋅χ⋅False⋅False + g⋅⎜a ⋅False + a⋅False - ─────────── - ─────\n",
       "                                     ⎝                          Δ            Δ\n",
       "\n",
       "            †                   ⎞                              †              \n",
       "False   ωᵣ⋅a ⋅False   ωᵣ⋅False⋅a⎟   ωₐ⋅False       †     χ⋅ωₐ⋅a ⋅a⋅False   χ⋅ω\n",
       "───── + ─────────── + ──────────⎟ + ──────── + ωᵣ⋅a ⋅a - ─────────────── - ───\n",
       "             Δ            Δ     ⎠      2                        Δ             \n",
       "\n",
       "                          †                     †                             \n",
       "ₐ⋅False⋅False   0.5⋅χ⋅ωᵣ⋅a ⋅a⋅False   0.5⋅χ⋅ωᵣ⋅a ⋅False⋅a   1.0⋅χ⋅ωᵣ⋅False⋅Fal\n",
       "───────────── + ─────────────────── + ─────────────────── + ──────────────────\n",
       "    Δ                    Δ                     Δ                     Δ        \n",
       "\n",
       "  \n",
       "se\n",
       "──\n",
       "  "
      ]
     },
     "execution_count": 88,
     "metadata": {},
     "output_type": "execute_result"
    }
   ],
   "source": [
    "H_U = H_U.collect(g)\n",
    "H_U"
   ]
  },
  {
   "cell_type": "markdown",
   "metadata": {},
   "source": [
    "The terms multiplied by g cancel, so we have:"
   ]
  },
  {
   "cell_type": "code",
   "execution_count": 89,
   "metadata": {},
   "outputs": [
    {
     "data": {
      "image/png": "[encoded data removed]",
      "text/latex": [
       "$\\displaystyle 2 \\chi {{a}^\\dagger} {a} {\\sigma_z} + 2 \\chi {\\sigma_+} {\\sigma_-} + \\frac{\\omega_{a} {\\sigma_z}}{2} + \\omega_{r} {{a}^\\dagger} {a} - \\frac{1.0 \\chi \\omega_{a} {{a}^\\dagger} {a} {\\sigma_z}}{\\Delta} - \\frac{1.0 \\chi \\omega_{a} {\\sigma_+} {\\sigma_-}}{\\Delta} + \\frac{0.5 \\chi \\omega_{r} {{a}^\\dagger} {a} {\\sigma_z}}{\\Delta} + \\frac{0.5 \\chi \\omega_{r} {{a}^\\dagger} {\\sigma_z} {a}}{\\Delta} + \\frac{1.0 \\chi \\omega_{r} {\\sigma_+} {\\sigma_-}}{\\Delta}$"
      ],
      "text/plain": [
       "                                                              †               \n",
       "     †                             ωₐ⋅False       †     χ⋅ωₐ⋅a ⋅a⋅False   χ⋅ωₐ\n",
       "2⋅χ⋅a ⋅a⋅False + 2⋅χ⋅False⋅False + ──────── + ωᵣ⋅a ⋅a - ─────────────── - ────\n",
       "                                      2                        Δ              \n",
       "\n",
       "                         †                     †                              \n",
       "⋅False⋅False   0.5⋅χ⋅ωᵣ⋅a ⋅a⋅False   0.5⋅χ⋅ωᵣ⋅a ⋅False⋅a   1.0⋅χ⋅ωᵣ⋅False⋅Fals\n",
       "──────────── + ─────────────────── + ─────────────────── + ───────────────────\n",
       "   Δ                    Δ                     Δ                     Δ         \n",
       "\n",
       " \n",
       "e\n",
       "─\n",
       " "
      ]
     },
     "execution_count": 89,
     "metadata": {},
     "output_type": "execute_result"
    }
   ],
   "source": [
    "H_U = H_U.subs(g, 0)\n",
    "H_U"
   ]
  },
  {
   "cell_type": "markdown",
   "metadata": {},
   "source": [
    "The last 5 terms can be factored and reduced to:"
   ]
  },
  {
   "cell_type": "code",
   "execution_count": 90,
   "metadata": {},
   "outputs": [
    {
     "data": {
      "image/png": "[encoded data removed]",
      "text/latex": [
       "$\\displaystyle \\chi {{a}^\\dagger} {a} {\\sigma_z} + \\chi {\\sigma_+} {\\sigma_-} + \\frac{\\omega_{a} {\\sigma_z}}{2} + \\omega_{r} {{a}^\\dagger} {a}$"
      ],
      "text/plain": [
       "   †                           ωₐ⋅False       †  \n",
       "χ⋅a ⋅a⋅False + χ⋅False⋅False + ──────── + ωᵣ⋅a ⋅a\n",
       "                                  2              "
      ]
     },
     "execution_count": 90,
     "metadata": {},
     "output_type": "execute_result"
    }
   ],
   "source": [
    "H_U = 2*chi*Dagger(a)*a*sz + 2*chi*splus*sminus + wa*sz/2 + wr*Dagger(a)*a - chi * splus*sminus - chi * Dagger(a) * a * sz\n",
    "H_U"
   ]
  },
  {
   "cell_type": "markdown",
   "metadata": {},
   "source": [
    "## Paper Version of the above:"
   ]
  },
  {
   "cell_type": "markdown",
   "metadata": {},
   "source": [
    "<img src = 'image1.jpg'>\n",
    "<img src = 'image2.jpg'>"
   ]
  },
  {
   "cell_type": "markdown",
   "metadata": {},
   "source": [
    "## Part II : Numerical question (10 marks)\n",
    "\n",
    "### * The Assignment task follows an introduction and an example *\n",
    "\n",
    "Having derived the dispersive approximation to the JC model we will further simplify by neglecting the Lamb shift, \n",
    "\n",
    "$$\n",
    "H = \\omega_r a^{\\dagger} a + \\frac{\\omega_a}{2} \\sigma_z + \\chi a^\\dagger a \\sigma_z ,\n",
    "$$\n",
    "\n",
    "We will also include the effect of energy loss with decay rates\n",
    "\n",
    "$$\n",
    "\\kappa,\\gamma,\n",
    "$$\n",
    "\n",
    "for the cavity and the qubit, respectively.\n",
    "\n",
    "In contrast to Notebook 1, where the focus was on time-dynamics, we will here mostly focus on the _steady_ _state_ and do a \"numerical experiment\" mimicking the experiment by Schuster et al.\n",
    "\n",
    "### Setting up the problem\n",
    "\n",
    "To model the experiment, we need to include the effect of the two drives: The cavity drive close to $\\omega_\\text{rf} \\simeq \\omega_r + |\\chi|$, and a spectroscopy drive with frequency $\\omega_s$ that we will sweep. The effect of the drives can be modelled by a Hamiltonian\n",
    "\n",
    "$$\n",
    "H = \\omega_r a^{\\dagger} a + \\frac{\\omega_a}{2} \\sigma_z + \\chi a^\\dagger a \\sigma_z\n",
    "+ \\varepsilon_\\text{rf} ( a e^{i \\omega_\\text{rf} t} + a^\\dagger e^{-i\\omega_\\text{rf} t} )\n",
    "+ \\varepsilon_{s} ( \\sigma_- e^{i \\omega_{s} t} + \\sigma_+ e^{-i\\omega_{s} t} )\n",
    "$$\n",
    "\n",
    "It is practical when working with this Hamiltonian to first go to a \"rotating frame\" by doing a unitary transformation defined by\n",
    "\n",
    "$$\n",
    "U = \\exp\\left[-i(\\omega_\\text{rf} a^\\dagger a + \\omega_s \\sigma_z/2)t\\right]\n",
    "$$\n",
    "\n",
    "It is not too hard to show that\n",
    "\n",
    "$$\n",
    "\\begin{align}\n",
    "H_U &= U^\\dagger H U - i U^\\dagger \\dot U \\\\\n",
    "&= \\delta_r a^{\\dagger} a + \\frac{\\delta_a}{2} \\sigma_z + \\chi a^\\dagger a \\sigma_z\n",
    "+ \\varepsilon_\\text{rf} ( a  + a^\\dagger )\n",
    "+ \\varepsilon_{s} ( \\sigma_-  + \\sigma_+ )\n",
    "\\end{align},\n",
    "$$\n",
    "\n",
    "where $\\delta_r = \\omega_r - \\omega_\\text{rf}$ and $\\delta_a = \\omega_a - \\omega_s$.\n",
    "The advantage of this change of frame is that $H_U$ is time-independent, which is very convenient when doing numerics. Varying the drive frequencies is now just a question of varying the parameters $\\delta_r$ and $\\delta_a$.\n",
    "\n",
    "### Finding steady states in QuTiP\n",
    "\n",
    "The system's steady state in the presense of energy decay can be found using the `steadystate` function. This function takes two mandatory arguments:\n",
    "\n",
    "```\n",
    "rho = qt.steadystate(H, c_ops)\n",
    "```\n",
    "\n",
    "where `H` is the Hamiltonian QuTiP object, and `c_ops = [a, b, c, ...]` is a list of operators that describe the energy decay. These operators have the following form\n",
    "\n",
    "$$\n",
    "\\sqrt{\\Gamma} O,\n",
    "$$\n",
    "\n",
    "where $\\Gamma$ is the decay rate, and $O$ is the operator describing loss of energy quanta. In our case, we will include both loss of cavity photons and spontaneous emission of photons from the qubit, which can be described by two operators\n",
    "\n",
    "$$\n",
    "\\sqrt{\\kappa} a, \\sqrt{\\gamma} \\sigma_-,\n",
    "$$\n",
    "\n",
    "respectively.\n",
    "\n",
    "Note that `qt.steadystate` returns a _density_ _matrix_ $\\rho$. A density matrix generalizes the notion of quantum states to include statistical mixtures. More precisely, any density matrix can be written\n",
    "\n",
    "$$\n",
    "\\rho = \\sum_k p_k |\\psi_k\\rangle\\langle\\psi_k|,\n",
    "$$\n",
    "\n",
    "where $p_k$ is a probability distribution, $p_k\\ge 0, \\sum_k p_k = 1$, and $|\\psi_k\\rangle$ an arbitrary set of states.\n",
    "\n",
    "The expectation value of any operator is given by\n",
    "$$\n",
    "\\langle X \\rangle = \\text{tr}[X\\rho] = \\sum_k p_k \\text{tr}\\left[X|\\psi_k\\rangle\\langle\\psi_k|\\right]\n",
    "= \\sum_k p_k \\langle \\psi_k|X|\\psi_k\\rangle,\n",
    "$$\n",
    "hence the interpretation as a mixture / probability distribution over the states $|\\psi_k\\rangle$. See Chapters 2 and 8 of \"Quantum Computation and Quantum Information\" by Nielsen and Chuang to learn more about the density matrix formalism.\n",
    "\n",
    "As usual, expectation values can be computed using QuTiP's `expect(O, rho)`."
   ]
  },
  {
   "cell_type": "markdown",
   "metadata": {},
   "source": [
    "### Example:\n",
    "\n",
    "Here is a simple example illustrating how to use the `steadystate` function. We will investigate the qubit-state dependent transmission through the cavity. We do not need the spectroscopy drive on the qubit in this example and therefore set $\\varepsilon_s = 0$, $\\omega_s = 0$.\n",
    "\n",
    "Due to a non-zero qubit decay rate $\\gamma > 0$, the qubit's steady state will be the ground state $|g\\rangle$. For this reason, we expect a peak in the intracavity photon number $\\langle a^\\dagger a \\rangle$ if\n",
    "\n",
    "$$\n",
    "\\omega_\\text{rf} = \\omega_r - \\chi.\n",
    "$$\n",
    "\n",
    "To see how this changes if the qubit is in the excited state, we will subsequently artificially change the qubit decay operator to be $\\sqrt{\\gamma}\\sigma_+$, such that the qubit steady state is $|e\\rangle$. In an experiment we could achieve this by by preparing the qubit in the exited state before the experiment, given that the decay rate is sufficiently low."
   ]
  },
  {
   "cell_type": "code",
   "execution_count": 91,
   "metadata": {},
   "outputs": [],
   "source": [
    "# import libraries\n",
    "import numpy as np\n",
    "import matplotlib.pyplot as plt\n",
    "import qutip as qt\n",
    "\n",
    "# use inline plotting\n",
    "%matplotlib inline"
   ]
  },
  {
   "cell_type": "code",
   "execution_count": 92,
   "metadata": {},
   "outputs": [],
   "source": [
    "nmax = 10\n",
    "idr = qt.identity(nmax)\n",
    "ida = qt.identity(2)\n",
    "    \n",
    "ground = qt.basis(2, 1)\n",
    "excited = qt.basis(2, 0)\n",
    "    \n",
    "a = qt.tensor(qt.destroy(nmax), ida) \n",
    "sz = qt.tensor(idr, qt.sigmaz())\n",
    "sm = qt.tensor(idr, qt.sigmam())\n",
    "sp = qt.tensor(idr, qt.sigmap())\n",
    " \n",
    "chi = -5 # units of 2pi MHz\n",
    "deltar = chi\n",
    "epsrf = 0.1\n",
    "kappa = 0.1\n",
    "gamma = 0.1\n",
    "\n",
    "deltar_range = np.linspace(2 * chi, - 2 * chi, 500)\n",
    "photons_g = []\n",
    "photons_e = []\n",
    "\n",
    "# deltar = cavity frqequency - cavity resonant frequency = chi \n",
    "# scan over deltar and compute <a* a> - the photon number expectation value\n",
    "for deltar in deltar_range:\n",
    "    # HU includes a drive on the resonator with strength epsrf and detuning deltar\n",
    "    # we drop the drive qubit drive (delta-a) in this example as it is not needed\n",
    "    # the qubit frequency wa is irrelevant, so we set it to zero\n",
    "    HU = (deltar * a.dag() * a + 0 * sz / 2 + chi * a.dag() * a * sz\n",
    "          + epsrf * (a + a.dag()))\n",
    "    \n",
    "    # find steady state with atom in ground state\n",
    "    c_ops = [np.sqrt(kappa) * a, np.sqrt(gamma) * sm] # c_ops = list of operators thst describe energy decay\n",
    "    # Here we note that in the long term steady state, atom will decay to ground state\n",
    "    rho = qt.steadystate(HU, c_ops) # returns density matrix rho \n",
    "    n_g = qt.expect(a.dag() * a, rho) # return expectation value of photon number operator \n",
    "    photons_g.append(n_g)\n",
    "    \n",
    "    # find steady state with atom in exited state\n",
    "    c_ops = [np.sqrt(kappa) * a, np.sqrt(gamma) * sp] # sp term means in SS, atom will go to excited state\n",
    "    rho = qt.steadystate(HU, c_ops)\n",
    "    n_e = qt.expect(a.dag() * a, rho)    \n",
    "    photons_e.append(n_e)"
   ]
  },
  {
   "cell_type": "code",
   "execution_count": 93,
   "metadata": {},
   "outputs": [
    {
     "data": {
      "image/png": "[encoded data removed]",
      "text/plain": [
       "<Figure size 576x288 with 1 Axes>"
      ]
     },
     "metadata": {
      "needs_background": "light"
     },
     "output_type": "display_data"
    }
   ],
   "source": [
    "# plot result\n",
    "# note that deltar = wr - wrf < 0 means that the drive is _above_ wr\n",
    "\n",
    "fig = plt.figure(figsize=(8, 4))\n",
    "plt.rc('font', size=16)\n",
    "\n",
    "# plot vs. -deltar for clarity\n",
    "plt.plot(-deltar_range, photons_g)\n",
    "plt.plot(-deltar_range, photons_e)\n",
    "\n",
    "plt.xlabel(r'$\\omega_{\\rm rf} - \\omega_r$ [MHz]')\n",
    "plt.ylabel(r'$\\langle a^\\dagger a \\rangle$')\n",
    "plt.legend(['ground', 'exited'])\n",
    "\n",
    "fig.tight_layout()"
   ]
  },
  {
   "cell_type": "markdown",
   "metadata": {},
   "source": [
    "###  Assignment task\n",
    "\n",
    "In this exercise you will investigate the physics behind Figs. 3 and 4 in the paper by Schuster et al in terms of a numerical experiment.\n",
    "\n",
    "The key to the experiment is that the \"effective\" qubit frequency depends on how many photons $n$ there are in the cavity\n",
    "\n",
    "$$\n",
    "\\omega_a + 2 n \\chi\n",
    "$$\n",
    "\n",
    "Therefore, if we drive the qubit with a tone at frequency $\\omega_s$, we expect to see an increase in the qubit population whenever $\\omega_s$ hits one of these resonances, for $n=0,1,2,\\dots$.\n",
    "\n",
    "Due to damping, the cavity will simply be in the vacuum state with $n=0$, unless we provide some energy input. This is done by including the cavity drive with strength $\\varepsilon_\\text{rf}$ at a frequency $\\omega_\\text{rf} = \\omega_r - \\chi$ (the resonance frequency if the qubit is in the ground state).\n",
    "\n",
    "Here is what you should do:\n",
    "\n",
    "Produce a plot of the qubit excited state population\n",
    "\n",
    "$$\n",
    "\\langle P_e \\rangle\n",
    "$$\n",
    "\n",
    "with $P_e = |e\\rangle\\langle e| = \\frac12 (\\sigma_z + I)$, as a function of $\\delta_a$ for the following parameters:\n",
    "\n",
    "$$\n",
    "\\begin{align}\n",
    "\\delta_r &= \\omega_r - \\omega_\\text{rf} = \\chi,\\\\\n",
    "\\chi/(2\\pi) &= -5 \\text{ MHz},\\\\\n",
    "\\varepsilon_\\text{rf}/(2\\pi) &= 0.1 \\text{ MHz},\\\\\n",
    "\\varepsilon_s/(2\\pi) &= 0.05 \\text{ MHz},\\\\\n",
    "\\kappa/(2\\pi) & = \\gamma/(2\\pi) = 0.1 \\text{ MHz},\\\\\n",
    "\\end{align}\n",
    "$$\n",
    "\n",
    "Insert your solution below."
   ]
  },
  {
   "cell_type": "code",
   "execution_count": 94,
   "metadata": {},
   "outputs": [],
   "source": [
    "deltar = chi \n",
    "chi = -5 # units of 2pi MHz\n",
    "epsrf = 0.1 # units of 2pi MHz\n",
    "epss = 0.05  # units of 2pi MHz\n",
    "kappa = 0.1 # units of 2pi MHz\n",
    "gamma = 0.1 # untis of 2pi MHz\n",
    "\n",
    "nmax = 10\n",
    "idr = qt.identity(nmax)\n",
    "ida = qt.identity(2)\n",
    "    \n",
    "ground = qt.basis(2, 1)\n",
    "excited = qt.basis(2, 0)\n",
    "    \n",
    "a = qt.tensor(qt.destroy(nmax), ida) \n",
    "sz = qt.tensor(idr, qt.sigmaz())\n",
    "sm = qt.tensor(idr, qt.sigmam())\n",
    "sp = qt.tensor(idr, qt.sigmap())\n",
    "\n",
    "P_e = 1/2 * (sz + qt.identity([10,2])) # define excited state number operator \n",
    "\n",
    "delta_a_range = np.linspace(2 * chi, - 20 * chi, 500) # set delta_a scanning range\n",
    "excited_population = list()\n",
    "for delta_a in delta_a_range:\n",
    "    HU = deltar * a.dag() * a + (delta_a * sz)/ 2 + chi * a.dag() * a * sz + epsrf * (a + a.dag()) + epss * (sm + sp)\n",
    "    # find steady state with atom in excited state\n",
    "    c_ops = [np.sqrt(kappa) * a, np.sqrt(gamma) * sm]\n",
    "    rho = qt.steadystate(HU, c_ops)\n",
    "    n_e = qt.expect(P_e, rho)\n",
    "    excited_population.append(n_e)\n",
    "\n"
   ]
  },
  {
   "cell_type": "code",
   "execution_count": 95,
   "metadata": {},
   "outputs": [
    {
     "data": {
      "image/png": "[encoded data removed]",
      "text/plain": [
       "<Figure size 864x288 with 1 Axes>"
      ]
     },
     "metadata": {
      "needs_background": "light"
     },
     "output_type": "display_data"
    }
   ],
   "source": [
    "plt.figure(figsize=(12,4))\n",
    "plt.rc('font', size=16)\n",
    "plt.plot(delta_a_range, excited_population)\n",
    "plt.xlabel('$\\delta_a/(2\\pi)$ [MHz]')\n",
    "plt.ylabel(r'$\\langle P_{\\mathrm{e}} \\rangle$')\n",
    "plt.tight_layout()\n",
    "plt.show()"
   ]
  },
  {
   "cell_type": "code",
   "execution_count": null,
   "metadata": {},
   "outputs": [],
   "source": []
  }
 ],
 "metadata": {
  "kernelspec": {
   "display_name": "Python 3.9.12 ('quantum')",
   "language": "python",
   "name": "python3"
  },
  "language_info": {
   "codemirror_mode": {
    "name": "ipython",
    "version": 3
   },
   "file_extension": ".py",
   "mimetype": "text/x-python",
   "name": "python",
   "nbconvert_exporter": "python",
   "pygments_lexer": "ipython3",
   "version": "3.9.12"
  },
  "vscode": {
   "interpreter": {
    "hash": "f1447f497d7adc30b680dff85ca810cbbaa5d1248a4b968f03b9f5ba2414276a"
   }
  }
 },
 "nbformat": 4,
 "nbformat_minor": 4
}
