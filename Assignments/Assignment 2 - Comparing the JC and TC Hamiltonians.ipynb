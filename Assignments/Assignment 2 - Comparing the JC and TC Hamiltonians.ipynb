{
 "cells": [
  {
   "cell_type": "markdown",
   "metadata": {},
   "source": [
    "# Comparing the Jaynes-Cummings and Tavis-Cummings Hamiltonians\n"
   ]
  },
  {
   "cell_type": "markdown",
   "metadata": {},
   "source": [
    "In this Assignment we will investigate the Tavis-Cummings Hamiltonian for an ensemble of homogeneous 'atoms' and compare it to the Jaynes-Cummings Hamiltonian. The assignment consists of 2 parts: Part I is 3 analytical derivation questions & Part II is a numerical exercise using Qutip.\n",
    "\n",
    "## Part I : Analytical questions (10 marks)\n",
    "\n",
    "The Tavis-Cummings Hamiltonian can be written\n",
    "\n",
    "$$\n",
    "H_{TC} = \\omega_c a^{\\dagger} a + \\displaystyle \\sum_j^N \\left\\{ \\frac{\\omega_j}{2} \\sigma^z_j + g_j (a \\sigma^+_j + a^\\dagger \\sigma^-_j) \\right\\},\n",
    "$$\n",
    "\n",
    "where we define the operators such that $[a,a^\\dagger]=1$ and $\\sigma^z_j = |e_j\\rangle\\langle e_j| - |g_j\\rangle\\langle g_j|$, $\\sigma^+_j = |e_j\\rangle\\langle g_j|$ and $\\sigma^-_j = (\\sigma^+_j)^\\dagger$.\n",
    "\n",
    "### Question 1:\n",
    "\n",
    "Let's define the collective spin operators: $J_{\\pm}$ as follows \n",
    "$\n",
    "J_{\\pm} = \\displaystyle \\sum_{j = 1}^N \\sigma^{\\pm}_j\n",
    "$\n",
    "\n",
    "Show that the commutator $[J_{+}, J_{-}] = \\displaystyle \\sum_{j = 1}^N \\sigma^z_j$"
   ]
  },
  {
   "cell_type": "markdown",
   "metadata": {},
   "source": [
    "### Answer 1:\n",
    "\n",
    "<img src = 'image3.png'>"
   ]
  },
  {
   "cell_type": "markdown",
   "metadata": {},
   "source": [
    "### Question 2:\n",
    "\n",
    "Define the collective spin operators $\\Sigma_{z} = \\displaystyle \\sum_{j = 1}^N \\sigma^z_j$ and $\\Sigma_{\\pm} = \\displaystyle \\sum_{j=1}^N \\dfrac{g_j}{\\sqrt{\\sum_{k=1}^N |g_k|^2}} \\sigma^{\\pm}_j$.\n",
    "\n",
    "Show that in the special case where all the 'atoms' are resonant with the cavity mode and homogeneously coupled to the cavity ($\\omega_i = \\omega_a$ \\& $g_i = g$ for all $i$),  $H_{TC}$ can be rewritten as\n",
    "\n",
    "$$\n",
    "H_{TC} = \\omega_c a^\\dagger a + \\dfrac{\\omega_a}{2} \\Sigma_z + \\Omega (a \\Sigma_+ + a^\\dagger \\Sigma_-) ,\n",
    "$$\n",
    "\n",
    "where $\\Omega = g\\sqrt{N}$"
   ]
  },
  {
   "cell_type": "markdown",
   "metadata": {},
   "source": [
    "### Answer 2:\n",
    "\n",
    "<img src = 'image4.png'>"
   ]
  },
  {
   "cell_type": "markdown",
   "metadata": {},
   "source": [
    "### Question 3:\n",
    "\n",
    "Consider the transmission spectrum $T(\\omega)$ defined for 2 'atoms' in the Evans *et al.* paper (p.10 Lecture 4) that includes cavity and atomic loss rates $\\kappa$ and $\\gamma_i$ respectively. Show that the transmission spectrum $T(\\omega)$ for $N$ identical 'atoms' can be approximated as $T(\\omega)$ of one 'super-atom' with coupling strength $\\Omega = g\\sqrt{N}$."
   ]
  },
  {
   "cell_type": "markdown",
   "metadata": {},
   "source": [
    "<img src = 'image5.png'>\n",
    "<img src = 'image6.png'>"
   ]
  },
  {
   "cell_type": "markdown",
   "metadata": {},
   "source": [
    "### Answer 3:\n",
    "Approach: Find transmission spectrum of N atoms and find transmission spectrum of one super-atom and show that they are equal."
   ]
  },
  {
   "cell_type": "code",
   "execution_count": 1,
   "metadata": {},
   "outputs": [],
   "source": [
    "import sympy as smp"
   ]
  },
  {
   "cell_type": "code",
   "execution_count": 70,
   "metadata": {},
   "outputs": [],
   "source": [
    "wr, w, wa, k_a, k_b, g, gamma, j, n = smp.symbols('omega_r, omega, omega_a, kappa_a, kappa_b, g, gamma, j, n', real=True)\n",
    "D = smp.I * (wr - w) + (k_a + k_b)/2 - smp.summation(((smp.Abs(g)**2)/(-smp.I * (wa-w)-gamma/2)), (j, 1, n))\n",
    "D1 = smp.Abs(D)**2\n",
    "\n"
   ]
  },
  {
   "cell_type": "code",
   "execution_count": 83,
   "metadata": {},
   "outputs": [
    {
     "data": {
      "text/latex": [
       "$\\displaystyle 5 g + 4 i + \\frac{34 i}{g}$"
      ],
      "text/plain": [
       "5*g + 4*I + 34*I/g"
      ]
     },
     "execution_count": 83,
     "metadata": {},
     "output_type": "execute_result"
    }
   ],
   "source": [
    "D = smp.I * (wr-w) + (k_a + k_b)/2 - n*g**2 / (-smp.I * (wa-w) - gamma/2)\n",
    "D2 = 5 * g + smp.I * 4 + 34/g*smp.I\n",
    "D2"
   ]
  },
  {
   "cell_type": "code",
   "execution_count": 85,
   "metadata": {},
   "outputs": [
    {
     "data": {
      "text/latex": [
       "$\\displaystyle \\sqrt{25 g^{2} + 16 + \\frac{272}{g} + \\frac{1156}{g^{2}}}$"
      ],
      "text/plain": [
       "sqrt(25*g**2 + 16 + 272/g + 1156/g**2)"
      ]
     },
     "execution_count": 85,
     "metadata": {},
     "output_type": "execute_result"
    }
   ],
   "source": [
    "smp.Abs(D2)"
   ]
  },
  {
   "cell_type": "markdown",
   "metadata": {},
   "source": [
    "\n",
    "## Part II : Numerical question (10 marks)\n",
    "\n",
    "Use the approximation from Question 3 above and your results from Notebook: *Jaynes Cummings Hamiltonian Spectral information* to plot the 2-dimensional normalised transmission spectrum of a coupled $N$-'atom'-cavity system as a function of frequency $\\omega$ and detuning $\\delta = \\omega_a - \\omega_c$ for $N$ = 1, 10 \\& 100 atoms.\n",
    "\n",
    "Use $\\omega_c = 1, g = 0.1, \\kappa = 10,$ and $\\gamma = 1$.\n",
    "\n",
    "*Bonus Question: How would you calculate the transmission spectrum without the simplifying approximation? Hint - consider Questions 1 and 2 from Part I.*\n"
   ]
  },
  {
   "cell_type": "code",
   "execution_count": 2,
   "metadata": {},
   "outputs": [],
   "source": [
    "import qutip as qt\n",
    "import numpy as np\n",
    "import matplotlib.pyplot as plt"
   ]
  },
  {
   "cell_type": "code",
   "execution_count": 197,
   "metadata": {},
   "outputs": [],
   "source": [
    "def jc_model_damped_spectrum(tlist, om_c, delta, g, kappa, gamma, N, nmax=5):\n",
    "    idc = qt.identity(nmax)\n",
    "    ida = qt.identity(2)\n",
    "\n",
    "    a = qt.tensor(qt.destroy(nmax), ida)\n",
    "    sz = qt.tensor(idc, qt.sigmaz())\n",
    "    sp = qt.tensor(idc, qt.sigmap())\n",
    "    sm = qt.tensor(idc, qt.sigmam())\n",
    "    Omega = g * np.sqrt(N)\n",
    "    def sigZ(N):\n",
    "        sigZ = 0\n",
    "        for j in range(1, N+1):\n",
    "            sigZ += sz\n",
    "        return sigZ\n",
    "    def sigPlus(N):\n",
    "        sigPlus = 0\n",
    "        for j in range(1, N+1):\n",
    "            sigPlus += g/np.sqrt(np.sum(np.repeat(g**2, N))) * sp\n",
    "        return sigPlus\n",
    "    def sigMinus(N):\n",
    "        sigMinus = 0\n",
    "        for j in range(1, N+1):\n",
    "            sigMinus += g/np.sqrt(np.sum(np.repeat(g**2, N))) * sm\n",
    "        return sigMinus\n",
    "    \n",
    "    H = om_c * a.dag() * a + 1/2 * (om_c + delta) * sigZ(N) + Omega * (a * sigPlus(N) + a.dag() * sigMinus(N))\n",
    "\n",
    "    n_th = 0.25\n",
    "\n",
    "    # define collapse operators\n",
    "    c_ops = [np.sqrt(kappa * (1+n_th)) * a, np.sqrt(kappa * n_th) * a.dag(), np.sqrt(gamma) * sm]\n",
    "    corr = qt.correlation_2op_1t(H, None,tlist,c_ops, a.dag(), a)\n",
    "\n",
    "    wlist1, spec1 = qt.spectrum_correlation_fft(tlist, corr)\n",
    "\n",
    "    return wlist1, spec1\n",
    "\n",
    "    "
   ]
  },
  {
   "cell_type": "code",
   "execution_count": 203,
   "metadata": {},
   "outputs": [
    {
     "data": {
      "image/png": "[encoded data removed]",
      "text/plain": [
       "<Figure size 720x432 with 2 Axes>"
      ]
     },
     "metadata": {
      "needs_background": "light"
     },
     "output_type": "display_data"
    }
   ],
   "source": [
    "# Solution\n",
    "\n",
    "tlist = np.linspace(0, 100, 1000)\n",
    "\n",
    "om_c = 1\n",
    "\n",
    "g = 0.1\n",
    "kappa = 10\n",
    "gamma = 1\n",
    "\n",
    "Detuning_vec = np.linspace(-10,10,100)\n",
    "\n",
    "spec_list = []\n",
    "for Delta in Detuning_vec:\n",
    "    w1,spec1 = jc_model_damped_spectrum(tlist, om_c, Delta, g, kappa, gamma, N=10)\n",
    "    spec_list.append(spec1)\n",
    "plt.subplots(1,1,figsize = (10,6))\n",
    "z_min, z_max = -np.abs(spec_list).max(), np.abs(spec_list).max()\n",
    "\n",
    "plt.pcolor(w1-om_c,Detuning_vec,np.abs(spec_list)/z_max)\n",
    "plt.axis([np.min(w1)/3,np.max(w1)/3,np.min(Detuning_vec),np.max(Detuning_vec)])\n",
    "plt.xlabel('Frequency - $\\omega$')\n",
    "plt.ylabel('Detuning - $\\delta$')\n",
    "plt.title('Spectrum')\n",
    "plt.colorbar()\n",
    "plt.show()\n",
    "\n"
   ]
  },
  {
   "cell_type": "code",
   "execution_count": null,
   "metadata": {},
   "outputs": [],
   "source": []
  }
 ],
 "metadata": {
  "kernelspec": {
   "display_name": "Python 3.9.12 ('quantum')",
   "language": "python",
   "name": "python3"
  },
  "language_info": {
   "codemirror_mode": {
    "name": "ipython",
    "version": 3
   },
   "file_extension": ".py",
   "mimetype": "text/x-python",
   "name": "python",
   "nbconvert_exporter": "python",
   "pygments_lexer": "ipython3",
   "version": "3.9.12"
  },
  "vscode": {
   "interpreter": {
    "hash": "f1447f497d7adc30b680dff85ca810cbbaa5d1248a4b968f03b9f5ba2414276a"
   }
  }
 },
 "nbformat": 4,
 "nbformat_minor": 4
}
