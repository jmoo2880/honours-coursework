{
 "cells": [
  {
   "cell_type": "markdown",
   "metadata": {},
   "source": [
    "# The Jaynes-Cummings model\n",
    "\n",
    "The Jaynes-Cummings model is a paradigmatic model from cavity QED, describing the interaction of a single two-state atom and a standing mode of the electromagnetic field.\n",
    "\n",
    "$$\n",
    "H_{JC} = \\omega a^{\\dagger} a + \\frac{\\omega_a}{2} \\sigma_z + g (a \\sigma_+ + a^\\dagger \\sigma_-)\n",
    "$$\n",
    "\n",
    "where $[a,a^\\dagger]=1$ and $\\sigma_z = |e\\rangle\\langle e| - |g\\rangle\\langle g|$, $\\sigma_+ = |e\\rangle\\langle g|$ and $\\sigma_- = (\\sigma_+)^\\dagger$.\n",
    "\n",
    "In this notebook you will use QuTiP to simulate time evolution under this simple Hamiltonian.\n",
    "\n",
    "You can find more information about QuTiP at [qutip.org](qutip.org), including many examples and tutorials: http://qutip.org/tutorials.html."
   ]
  },
  {
   "cell_type": "markdown",
   "metadata": {},
   "source": [
    "## Defining operators and states"
   ]
  },
  {
   "cell_type": "markdown",
   "metadata": {},
   "source": [
    "In QuTip convenient functions already exist to create the operators we need to define $H_{JC}$.\n",
    "\n",
    "Operators and states for a harmonic oscillator are defined using a truncated number (or Fock) basis. The number basis is just the eigenbasis of the number operator $a^\\dagger a$, i.e., $a^\\dagger a |n\\rangle = n|n\\rangle$. Any state in the harmonic oscillator Hilbert space can be written\n",
    "\n",
    "$$\n",
    "|\\psi\\rangle = \\sum_{n=0}^\\infty \\psi_n |n\\rangle.\n",
    "$$\n",
    "\n",
    "In QuTiP this state is represented by truncating the sum over n at some $n_\\text{max}$ and representing $[\\psi_n]$ as a vector. For example, the Fock state $|2\\rangle$ is represented as\n",
    "\n",
    "$$\n",
    "\\left(\n",
    "\\begin{array}{c}\n",
    "0 \\\\\n",
    "0 \\\\\n",
    "1 \\\\\n",
    "0 \\\\\n",
    "\\vdots \\\\\n",
    "0 \\\\\n",
    "\\end{array}\n",
    "\\right)\n",
    "$$\n",
    "\n",
    "Similarly, any operator can be written\n",
    "\n",
    "$$\n",
    "A = \\sum_{n,m=0}^\\infty A_{n,m} |n\\rangle\\langle m|,\n",
    "$$\n",
    "\n",
    "which is represented in QuTip by a square matrix $[A_{n,m}]$ with $n,m=0,\\dots,n_\\text{max}$. Of course, this truncated Hilbert space only approxiamte the true Hilbert space, and we have to be careful to check that the truncation is valid. For example, the annihilatin operator is represented as\n",
    "\n",
    "$$\n",
    "a = \\left(\n",
    "\\begin{array}{cccccc}\n",
    "0 & \\sqrt{1} & 0 & 0 & \\dots & 0 \\\\\n",
    "0 & 0 & \\sqrt{2} & 0 & \\dots & 0 \\\\\n",
    "0 & 0 & 0 & \\sqrt{3} & \\dots & 0 \\\\\n",
    "  &   & \\vdots\\\\\n",
    "0 & 0 & 0 & 0        & \\dots & \\sqrt{n_\\text{max}-1} \\\\\n",
    "\\end{array}\n",
    "\\right)\n",
    "$$\n",
    "\n",
    "QuTiP conveniently has pre-defined functions for defining Fock states, creation and annihilation operators for a specified truncation, as shown in the following example.\n",
    "\n",
    "Execute the cell by pressing shift+enter."
   ]
  },
  {
   "cell_type": "code",
   "execution_count": 1,
   "metadata": {},
   "outputs": [
    {
     "name": "stdout",
     "output_type": "stream",
     "text": [
      "Quantum object: dims = [[5], [1]], shape = (5, 1), type = ket\n",
      "Qobj data =\n",
      "[[0.]\n",
      " [0.]\n",
      " [1.]\n",
      " [0.]\n",
      " [0.]]\n",
      "Quantum object: dims = [[5], [5]], shape = (5, 5), type = oper, isherm = False\n",
      "Qobj data =\n",
      "[[0.         1.         0.         0.         0.        ]\n",
      " [0.         0.         1.41421356 0.         0.        ]\n",
      " [0.         0.         0.         1.73205081 0.        ]\n",
      " [0.         0.         0.         0.         2.        ]\n",
      " [0.         0.         0.         0.         0.        ]]\n",
      "Quantum object: dims = [[5], [5]], shape = (5, 5), type = oper, isherm = False\n",
      "Qobj data =\n",
      "[[0.         0.         0.         0.         0.        ]\n",
      " [1.         0.         0.         0.         0.        ]\n",
      " [0.         1.41421356 0.         0.         0.        ]\n",
      " [0.         0.         1.73205081 0.         0.        ]\n",
      " [0.         0.         0.         2.         0.        ]]\n",
      "Quantum object: dims = [[5], [1]], shape = (5, 1), type = ket\n",
      "Qobj data =\n",
      "[[0.]\n",
      " [1.]\n",
      " [0.]\n",
      " [0.]\n",
      " [0.]]\n"
     ]
    }
   ],
   "source": [
    "import qutip as qt\n",
    "\n",
    "nmax = 5  # truncation parameter\n",
    "\n",
    "psi = qt.basis(nmax, 2)  # Fock state |2> in a truncated Hilbert space of dimension nmax\n",
    "print(psi)\n",
    "\n",
    "a = qt.destroy(nmax)  # annihilation operator\n",
    "print(a)\n",
    "\n",
    "ad = a.dag()  # the method .dag() takes the Hermitian conjuagate of any Qobj\n",
    "print(ad)\n",
    "\n",
    "# compute a|psi> and normalize\n",
    "psi = a*psi\n",
    "psi = psi/psi.norm()\n",
    "print(psi)"
   ]
  },
  {
   "cell_type": "code",
   "execution_count": null,
   "metadata": {},
   "outputs": [],
   "source": []
  },
  {
   "cell_type": "markdown",
   "metadata": {},
   "source": [
    "As you can see, QuTiP's `Qobj` class contains various useful information besides the raw data (vector/matrix) representing the state/operator, such as a `type` attribute, and a `dims` attribute. \n",
    "\n",
    "(The `dims` attribute keeps track of the dimensions of the \"input\" and \"output\" Hilbert space of a linear operator. It is needed for QuTiP to keep track of tensor products.)\n",
    "\n",
    "QuTiP also has convenient funtions for defining operators acting on a two-level system:"
   ]
  },
  {
   "cell_type": "code",
   "execution_count": 2,
   "metadata": {},
   "outputs": [
    {
     "name": "stdout",
     "output_type": "stream",
     "text": [
      "Quantum object: dims = [[2], [2]], shape = (2, 2), type = oper, isherm = True\n",
      "Qobj data =\n",
      "[[ 1.  0.]\n",
      " [ 0. -1.]]\n",
      "Quantum object: dims = [[2], [2]], shape = (2, 2), type = oper, isherm = False\n",
      "Qobj data =\n",
      "[[0. 1.]\n",
      " [0. 0.]]\n",
      "Quantum object: dims = [[2], [2]], shape = (2, 2), type = oper, isherm = False\n",
      "Qobj data =\n",
      "[[0. 0.]\n",
      " [1. 0.]]\n"
     ]
    }
   ],
   "source": [
    "sz = qt.sigmaz() # Pauli-Z matrix\n",
    "sp = qt.sigmap() # Two-level raising operator\n",
    "sm = qt.sigmam() # Two-level lowering operator\n",
    "\n",
    "print(sz)\n",
    "print(sp)\n",
    "print(sm)"
   ]
  },
  {
   "cell_type": "code",
   "execution_count": null,
   "metadata": {},
   "outputs": [],
   "source": []
  },
  {
   "cell_type": "markdown",
   "metadata": {},
   "source": [
    "Beware of the following convention: In qutip `qt.basis(2, 0)` is the $+1$ eigenstate of `qt.sigmaz()`. In other words, `qt.basis(2, 0)` will represent the excited state and `qt.basis(2, 1)` the ground state of the two-level atom in $H_{JC}$. The following example illustrates the point (and shows you how to compute expectation values):"
   ]
  },
  {
   "cell_type": "code",
   "execution_count": 40,
   "metadata": {},
   "outputs": [
    {
     "name": "stdout",
     "output_type": "stream",
     "text": [
      "-1.0\n",
      "1.0\n"
     ]
    }
   ],
   "source": [
    "ground = qt.basis(2, 1)\n",
    "excited = qt.basis(2, 0)\n",
    "\n",
    "# Compute expectation value of sigma-z in ground and excited state:\n",
    "print(qt.expect(sz, ground))\n",
    "print(qt.expect(sz, excited))"
   ]
  },
  {
   "cell_type": "code",
   "execution_count": null,
   "metadata": {},
   "outputs": [],
   "source": []
  },
  {
   "cell_type": "markdown",
   "metadata": {},
   "source": [
    "We now know how to create operators acting on a truncated Fock space and on a two-level system. We are almost ready to define $H_{JC}$. The only missing ingredient is how to define tensor products. In $H_{JC}$ above we have used the standard convention of suppressing tensor products in the noation. Writing it all out we have\n",
    "\n",
    "$$\n",
    "H_{JC} = \\omega a^{\\dagger} a \\otimes I + \\frac{\\omega_a}{2} I\\otimes \\sigma_z + g (a \\otimes \\sigma_+ + a^\\dagger \\otimes \\sigma_-)\n",
    "$$\n",
    "\n",
    "with the convention that the oscillator is the left factor in the tensor product. In qutip, identity operators can be defined with `qt.identity(dim)` where `dim` is the Hilbert space dimension. A tensor product of two operators `A` and `B` can be computed through `qt.tensor(A, B)`. Similarly a tensor product of two states `psi` and `phi` is computed by `qt.tensor(psi, phi)`. For example, the operator $a\\otimes I$ can be defined through:"
   ]
  },
  {
   "cell_type": "code",
   "execution_count": 41,
   "metadata": {},
   "outputs": [
    {
     "name": "stdout",
     "output_type": "stream",
     "text": [
      "Quantum object: dims = [[5, 2], [5, 2]], shape = (10, 10), type = oper, isherm = False\n",
      "Qobj data =\n",
      "[[0.         0.         1.         0.         0.         0.\n",
      "  0.         0.         0.         0.        ]\n",
      " [0.         0.         0.         1.         0.         0.\n",
      "  0.         0.         0.         0.        ]\n",
      " [0.         0.         0.         0.         1.41421356 0.\n",
      "  0.         0.         0.         0.        ]\n",
      " [0.         0.         0.         0.         0.         1.41421356\n",
      "  0.         0.         0.         0.        ]\n",
      " [0.         0.         0.         0.         0.         0.\n",
      "  1.73205081 0.         0.         0.        ]\n",
      " [0.         0.         0.         0.         0.         0.\n",
      "  0.         1.73205081 0.         0.        ]\n",
      " [0.         0.         0.         0.         0.         0.\n",
      "  0.         0.         2.         0.        ]\n",
      " [0.         0.         0.         0.         0.         0.\n",
      "  0.         0.         0.         2.        ]\n",
      " [0.         0.         0.         0.         0.         0.\n",
      "  0.         0.         0.         0.        ]\n",
      " [0.         0.         0.         0.         0.         0.\n",
      "  0.         0.         0.         0.        ]]\n"
     ]
    }
   ],
   "source": [
    "nmax = 5\n",
    "a = qt.tensor(qt.destroy(nmax), qt.identity(2))  # annihilation operator acting on the oscillator (identity on atom)\n",
    "n = a.dag() * a  # number operator on oscillator (identity on atom)\n",
    "print(a)"
   ]
  },
  {
   "cell_type": "code",
   "execution_count": null,
   "metadata": {},
   "outputs": [],
   "source": []
  },
  {
   "cell_type": "markdown",
   "metadata": {},
   "source": [
    "### Exercise 1:\n",
    "\n",
    "Use qutip to define $H_{JC}$ as well as an initial state $|\\psi_0\\rangle = |0,e\\rangle$ where the oscillator is in the ground state and the atom is in the excited state.\n",
    "\n",
    "Use the following parameters:\n",
    "$$\n",
    "\\omega = \\omega_a = 10,\\\\\n",
    "g = 1\n",
    "$$\n",
    "\n",
    "Using a truncation of `nmax=3` you should get the following output for the Hamiltonian and initial state:\n",
    "\n",
    "```\n",
    "print(HJC)\n",
    "Quantum object: dims = [[3, 2], [3, 2]], shape = (6, 6), type = oper, isherm = True\n",
    "Qobj data =\n",
    "[[ 5.          0.          0.          1.          0.          0.        ]\n",
    " [ 0.         -5.          0.          0.          0.          0.        ]\n",
    " [ 0.          0.         15.          0.          0.          1.41421356]\n",
    " [ 1.          0.          0.          5.          0.          0.        ]\n",
    " [ 0.          0.          0.          0.         25.          0.        ]\n",
    " [ 0.          0.          1.41421356  0.          0.         15.        ]]\n",
    "```\n",
    "\n",
    "```\n",
    "print(psi0)\n",
    "Quantum object: dims = [[3, 2], [1, 1]], shape = (6, 1), type = ket\n",
    "Qobj data =\n",
    "[[1.]\n",
    " [0.]\n",
    " [0.]\n",
    " [0.]\n",
    " [0.]\n",
    " [0.]]\n",
    "```\n",
    "\n",
    "Insert your solution below (you can add additional cells using the \"+\" button in the menubar)."
   ]
  },
  {
   "cell_type": "code",
   "execution_count": null,
   "metadata": {},
   "outputs": [],
   "source": []
  },
  {
   "cell_type": "code",
   "execution_count": null,
   "metadata": {},
   "outputs": [],
   "source": []
  },
  {
   "cell_type": "markdown",
   "metadata": {},
   "source": [
    "# Time-evolution\n",
    "\n",
    "Now that we have constructed $H_{JC}$ and an initial state, the next step is to evolve the system in time, i.e., solve the Schrödinger equation. Again, QuTiP makes this easy for us.\n",
    "\n",
    "The Schrödinger equation can be solved in qutip using the function `qt.sesolve` (for \"Schrödinger Equation Solve\"). To figure out the syntax of this function let's have a look at its docstring. The docstring of any python function can be pritned out in a notebook by typing the name of the function followed by a question mark. Execute the following command, and a help box should pop up:"
   ]
  },
  {
   "cell_type": "code",
   "execution_count": 26,
   "metadata": {},
   "outputs": [],
   "source": [
    "qt.sesolve?"
   ]
  },
  {
   "cell_type": "markdown",
   "metadata": {},
   "source": [
    "Alternatively, the same thing can be accomplished calling `help(functionname)`"
   ]
  },
  {
   "cell_type": "code",
   "execution_count": 27,
   "metadata": {},
   "outputs": [
    {
     "name": "stdout",
     "output_type": "stream",
     "text": [
      "Help on function sesolve in module qutip.sesolve:\n",
      "\n",
      "sesolve(H, psi0, tlist, e_ops=None, args=None, options=None, progress_bar=None, _safe_mode=True)\n",
      "    Schrodinger equation evolution of a state vector or unitary matrix\n",
      "    for a given Hamiltonian.\n",
      "    \n",
      "    Evolve the state vector (`psi0`) using a given\n",
      "    Hamiltonian (`H`), by integrating the set of ordinary differential\n",
      "    equations that define the system. Alternatively evolve a unitary matrix in\n",
      "    solving the Schrodinger operator equation.\n",
      "    \n",
      "    The output is either the state vector or unitary matrix at arbitrary points\n",
      "    in time (`tlist`), or the expectation values of the supplied operators\n",
      "    (`e_ops`). If e_ops is a callback function, it is invoked for each\n",
      "    time in `tlist` with time and the state as arguments, and the function\n",
      "    does not use any return values. e_ops cannot be used in conjunction\n",
      "    with solving the Schrodinger operator equation\n",
      "    \n",
      "    Parameters\n",
      "    ----------\n",
      "    \n",
      "    H : :class:`qutip.qobj`, :class:`qutip.qobjevo`, *list*, *callable*\n",
      "        system Hamiltonian as a Qobj, list of Qobj and coefficient, QobjEvo,\n",
      "        or a callback function for time-dependent Hamiltonians.\n",
      "        list format and options can be found in QobjEvo's description.\n",
      "    \n",
      "    psi0 : :class:`qutip.qobj`\n",
      "        initial state vector (ket)\n",
      "        or initial unitary operator `psi0 = U`\n",
      "    \n",
      "    tlist : *list* / *array*\n",
      "        list of times for :math:`t`.\n",
      "    \n",
      "    e_ops : None / list of :class:`qutip.qobj` / callback function\n",
      "        single operator or list of operators for which to evaluate\n",
      "        expectation values.\n",
      "        For list operator evolution, the overlapse is computed:\n",
      "            tr(e_ops[i].dag()*op(t))\n",
      "    \n",
      "    args : None / *dictionary*\n",
      "        dictionary of parameters for time-dependent Hamiltonians\n",
      "    \n",
      "    options : None / :class:`qutip.Qdeoptions`\n",
      "        with options for the ODE solver.\n",
      "    \n",
      "    progress_bar : None / BaseProgressBar\n",
      "        Optional instance of BaseProgressBar, or a subclass thereof, for\n",
      "        showing the progress of the simulation.\n",
      "    \n",
      "    Returns\n",
      "    -------\n",
      "    \n",
      "    output: :class:`qutip.solver`\n",
      "    \n",
      "        An instance of the class :class:`qutip.solver`, which contains either\n",
      "        an *array* of expectation values for the times specified by `tlist`, or\n",
      "        an *array* or state vectors corresponding to the\n",
      "        times in `tlist` [if `e_ops` is an empty list], or\n",
      "        nothing if a callback function was given inplace of operators for\n",
      "        which to calculate the expectation values.\n",
      "\n"
     ]
    }
   ],
   "source": [
    "help(qt.sesolve)"
   ]
  },
  {
   "cell_type": "markdown",
   "metadata": {},
   "source": [
    "As you can see from the docstring, `sesolve` takes three mandatory arguments, `H`, `psi0` and `tlist` and has three optional additional arguments `e_ops`, `args`, `options` and `progress_bar`. Let's ignore the optional arguments for now.\n",
    "\n",
    "These mandatory arguments should be fairly self-explanator: `H` is the system Hamiltonian, `psi0` is the initial states, and `tlist` is a list for which you want to return the solution to the Schrödinger equation. In other words, the returned solution is $\\psi(t)$ for $t \\in $`tlist`. The function returns a variable `output` which contains the solution and various other information. As usual, you can find out more by calling `help(output)` as shown below.\n",
    "\n",
    "Lets try a simple example with just a two-level system (no harmonic oscillator) to illustrate the basic functionality of `sesolve`:"
   ]
  },
  {
   "cell_type": "code",
   "execution_count": 28,
   "metadata": {},
   "outputs": [
    {
     "name": "stdout",
     "output_type": "stream",
     "text": [
      "Help on Result in module qutip.solver object:\n",
      "\n",
      "class Result(builtins.object)\n",
      " |  Class for storing simulation results from any of the dynamics solvers.\n",
      " |  \n",
      " |  Attributes\n",
      " |  ----------\n",
      " |  \n",
      " |  solver : str\n",
      " |      Which solver was used [e.g., 'mesolve', 'mcsolve', 'brmesolve', ...]\n",
      " |  times : list/array\n",
      " |      Times at which simulation data was collected.\n",
      " |  expect : list/array\n",
      " |      Expectation values (if requested) for simulation.\n",
      " |  states : array\n",
      " |      State of the simulation (density matrix or ket) evaluated at ``times``.\n",
      " |  num_expect : int\n",
      " |      Number of expectation value operators in simulation.\n",
      " |  num_collapse : int\n",
      " |      Number of collapse operators in simualation.\n",
      " |  ntraj : int/list\n",
      " |      Number of trajectories (for stochastic solvers). A list indicates\n",
      " |      that averaging of expectation values was done over a subset of total\n",
      " |      number of trajectories.\n",
      " |  col_times : list\n",
      " |      Times at which state collpase occurred. Only for Monte Carlo solver.\n",
      " |  col_which : list\n",
      " |      Which collapse operator was responsible for each collapse in\n",
      " |      ``col_times``. Only for Monte Carlo solver.\n",
      " |  \n",
      " |  Methods defined here:\n",
      " |  \n",
      " |  __getstate__(self)\n",
      " |  \n",
      " |  __init__(self)\n",
      " |      Initialize self.  See help(type(self)) for accurate signature.\n",
      " |  \n",
      " |  __repr__(self)\n",
      " |      Return repr(self).\n",
      " |  \n",
      " |  __setstate__(self, state)\n",
      " |  \n",
      " |  __str__(self)\n",
      " |      Return str(self).\n",
      " |  \n",
      " |  ----------------------------------------------------------------------\n",
      " |  Data descriptors defined here:\n",
      " |  \n",
      " |  __dict__\n",
      " |      dictionary for instance variables (if defined)\n",
      " |  \n",
      " |  __weakref__\n",
      " |      list of weak references to the object (if defined)\n",
      "\n"
     ]
    }
   ],
   "source": [
    "import numpy as np  # import numpy, a convenient package for dealing with arrays\n",
    "\n",
    "\n",
    "H = qt.sigmax()  # Pauli-X operator\n",
    "psi0 = qt.basis(2, 1)  # ground state\n",
    "tlist = np.linspace(0, 10, 100)  # a list of times between 0 and 10 \n",
    "                                 # use np.linspace? or help(np.linspace) to find out more\n",
    "\n",
    "output = qt.sesolve(H, psi0, tlist)  # solve the Schrödinger equation\n",
    "\n",
    "help(output)  # have a look at the attributes of the returned output"
   ]
  },
  {
   "cell_type": "code",
   "execution_count": null,
   "metadata": {},
   "outputs": [],
   "source": []
  },
  {
   "cell_type": "markdown",
   "metadata": {},
   "source": [
    "Let's have a look at the solution and plot an expectation value.\n",
    "\n",
    "As indicated by the `help` function, the solution $\\psi(t)$ is saved as a list in the `states` attribute of the `output`.\n",
    "\n",
    "To compute an expectation value, use a call to `qt.expect(A, states)`. If `states` is a list of states this will return a list of expectation values of `A`, i.e., $\\langle \\psi(t)|A|\\psi(t) \\rangle$, evaluated at the times given in `tlist`."
   ]
  },
  {
   "cell_type": "code",
   "execution_count": 29,
   "metadata": {},
   "outputs": [
    {
     "name": "stdout",
     "output_type": "stream",
     "text": [
      "[-1.         -0.97966324 -0.91948013 -0.82189857 -0.69088756 -0.53177579\n",
      " -0.3510349  -0.15601625  0.04534808  0.24486795  0.43442821  0.60631884\n",
      "  0.75354841  0.87012859  0.95131766  0.99381332  0.99588712  0.95745468\n",
      "  0.88007921  0.76690787  0.62254375  0.45285867  0.26475429  0.06588149\n",
      " -0.13567091 -0.33170513 -0.51424779 -0.67587427 -0.81001063 -0.91120109\n",
      " -0.97532984 -0.99978853 -0.9835823  -0.92737033 -0.83343897 -0.70560878\n",
      " -0.54907906 -0.37021643 -0.17629587  0.02479521  0.22487778  0.41581382\n",
      "  0.58983733  0.73987014  0.85980992  0.94477826  0.9913192   0.99753971\n",
      "  0.96318677  0.88965766  0.77994308  0.63850553  0.4710978   0.28452892\n",
      "  0.08638732 -0.11526793 -0.31223484 -0.49650212 -0.660575   -0.79778003\n",
      " -0.90253662 -0.97058393 -0.99915421 -0.98708537 -0.9348683  -0.84462688\n",
      " -0.72003156 -0.56615011 -0.38924141 -0.19650096  0.00423183  0.20479249\n",
      "  0.39702355  0.57310633  0.72587894  0.84912758  0.93783928  0.9884058\n",
      "  0.99877041  0.9685115   0.89885984  0.79264843  0.65419728  0.4891377\n",
      "  0.30418323  0.10685663 -0.09481617 -0.29263248 -0.47854644 -0.64499632\n",
      " -0.785212   -0.89349043 -0.96542751 -0.9980973  -0.99017096 -0.94197089\n",
      " -0.85545757 -0.73414984 -0.58298172 -0.40810176]\n"
     ]
    }
   ],
   "source": [
    "psit = output.states  # the solution psi(t) is saved as a list in the `states` attribute\n",
    "\n",
    "sz_exp = qt.expect(qt.sigmaz(), psit)  # expectation values of sz evaluated at the times given by `tlist`\n",
    "print(sz_exp)"
   ]
  },
  {
   "cell_type": "code",
   "execution_count": 30,
   "metadata": {},
   "outputs": [
    {
     "data": {
      "text/plain": [
       "Text(0, 0.5, '$\\\\langle \\\\sigma_z \\\\rangle$')"
      ]
     },
     "execution_count": 30,
     "metadata": {},
     "output_type": "execute_result"
    },
    {
     "data": {
      "image/png": "[encoded data removed]",
      "text/plain": [
       "<Figure size 432x288 with 1 Axes>"
      ]
     },
     "metadata": {
      "needs_background": "light"
     },
     "output_type": "display_data"
    }
   ],
   "source": [
    "import matplotlib.pyplot as plt  # to plot things we need to import this library\n",
    "\n",
    "# use the following command to tell Jupyter to plot things inline \n",
    "# in the notebook rather than open an external window\n",
    "%matplotlib inline\n",
    "\n",
    "plt.plot(tlist, sz_exp)\n",
    "plt.xlabel(r'time')\n",
    "plt.ylabel(r'$\\langle \\sigma_z \\rangle$')"
   ]
  },
  {
   "cell_type": "code",
   "execution_count": null,
   "metadata": {},
   "outputs": [],
   "source": []
  },
  {
   "cell_type": "markdown",
   "metadata": {},
   "source": [
    "Question: What does the above time evolution looks like on the Bloch sphere?"
   ]
  },
  {
   "cell_type": "markdown",
   "metadata": {},
   "source": [
    "### Exercise 2:\n",
    "\n",
    "Returning to the Jaynes-Cumming Hamiltonian $H_{JC}$ you defined above, solve the Schrödinger equation the initial state $|\\psi_0\\rangle = |0,g\\rangle$ for a set of times between $t=0$ and $t=10$, and plot the following expectation values:\n",
    "\n",
    "$$\n",
    "\\langle a^\\dagger a \\rangle \\\\\n",
    "\\langle \\sigma_z \\rangle\n",
    "$$\n",
    "\n",
    "\n",
    "Once you have found the solution using `qt.sesolve` below is an example showing how to make a figure with multiple subpanels."
   ]
  },
  {
   "cell_type": "code",
   "execution_count": 34,
   "metadata": {},
   "outputs": [
    {
     "data": {
      "image/png": "[encoded data removed]",
      "text/plain": [
       "<Figure size 720x288 with 2 Axes>"
      ]
     },
     "metadata": {
      "needs_background": "light"
     },
     "output_type": "display_data"
    }
   ],
   "source": [
    "fig = plt.figure(figsize=(10, 4))  # create a new figure with desired size\n",
    "plt.rc('font', size=14)  # Use a larger font size than the default 10pt\n",
    "\n",
    "ax = fig.add_subplot(1, 2, 1)  # 1 row, 2 columns, subplot 1\n",
    "bx = fig.add_subplot(1, 2, 2)  # 1 row, 2 columns, subplot 2\n",
    "\n",
    "tlist = np.linspace(0, 4*np.pi, 100)\n",
    "ax.plot(tlist, np.sin(tlist))\n",
    "bx.plot(tlist, np.cos(tlist))\n",
    "\n",
    "ax.set_xlabel(r'$t$')\n",
    "ax.set_ylabel(r'$\\sin(t)$')\n",
    "bx.set_xlabel(r'$t$')\n",
    "bx.set_ylabel(r'$\\cos(t)$')\n",
    "\n",
    "plt.tight_layout()"
   ]
  },
  {
   "cell_type": "markdown",
   "metadata": {},
   "source": [
    "Use a similar approach to plot your soluton for $\\langle a^\\dagger a\\rangle$ and $\\langle \\sigma_z \\rangle$ in two panels.\n",
    "\n",
    "Insert your solution below."
   ]
  },
  {
   "cell_type": "code",
   "execution_count": null,
   "metadata": {},
   "outputs": [],
   "source": []
  },
  {
   "cell_type": "code",
   "execution_count": null,
   "metadata": {},
   "outputs": [],
   "source": []
  },
  {
   "cell_type": "markdown",
   "metadata": {},
   "source": [
    "Question: What do you think the state of the oscillator+atom system is at $gt=\\pi/4, \\pi/2, \\pi$?"
   ]
  },
  {
   "cell_type": "markdown",
   "metadata": {},
   "source": [
    "# Creating functions for conveniently changing parameters\n",
    "\n",
    "\n",
    "We are often interested in how the properties of a system change as we vary the parameters of a model. For this purpose it is convenient to define a python function that returns the solution for a set of parameters. The below example shows how to do this for the Jaynes Cummings model.\n",
    "\n",
    "Play around with different choices of parameters and see how the solution changes"
   ]
  },
  {
   "cell_type": "code",
   "execution_count": 22,
   "metadata": {},
   "outputs": [],
   "source": [
    "def jc_model(w, wa, g, nmax=5):\n",
    "    \"\"\"\n",
    "    This function solves the Schrödinger equation for the JC model with\n",
    "    |psi0> = |0,e> as an initial state and the following parameters:\n",
    "    \n",
    "    w = oscillator frequency\n",
    "    wa = atom frequency\n",
    "    g = coupling strength\n",
    "    nmax = Hilbert space truncation (5 by default)\n",
    "    \n",
    "    Instead of returning the full output, the function retuns expectation values\n",
    "    <sigma_z> and <a* a>\n",
    "    \"\"\"\n",
    "\n",
    "    idr = qt.identity(nmax)  # identiy operator on oscillator (\"r\" for \"resonator\")\n",
    "    ida = qt.identity(2)  # identity operator on atom\n",
    "    \n",
    "    ground = qt.basis(2, 1)  # atom ground state\n",
    "    excited = qt.basis(2, 0)  # atom excited state\n",
    "    \n",
    "    a = qt.tensor(qt.destroy(nmax), ida)  # annihilation operator\n",
    "    sz = qt.tensor(idr, qt.sigmaz())  # Pauli-z\n",
    "    sm = qt.tensor(idr, qt.sigmam())  # atom lowering operator\n",
    "    sp = qt.tensor(idr, qt.sigmap())  # atom raising operator\n",
    "    \n",
    "    HJC = w*a.dag()*a + wa*sz/2 + g * (a * sp + a.dag() * sm)\n",
    "    psi0 = qt.tensor(qt.basis(nmax, 0), excited)\n",
    "    \n",
    "    tlist = np.linspace(0, 10, 1000) \n",
    "    output = qt.sesolve(HJC, psi0, tlist)  # solve the Schrödinger equation \n",
    "    \n",
    "    return tlist, qt.expect(sz, output.states), qt.expect(a.dag()*a, output.states)"
   ]
  },
  {
   "cell_type": "code",
   "execution_count": 24,
   "metadata": {},
   "outputs": [
    {
     "data": {
      "image/png": "[encoded data removed]",
      "text/plain": [
       "<Figure size 720x288 with 2 Axes>"
      ]
     },
     "metadata": {
      "needs_background": "light"
     },
     "output_type": "display_data"
    }
   ],
   "source": [
    "# Solve for a parameter set and plot the solution\n",
    "\n",
    "nmax = 10\n",
    "\n",
    "w = 1\n",
    "wa = 1\n",
    "g = 2\n",
    "tlist, sz_exp, ada_exp = jc_model(w, wa, g, nmax=nmax)\n",
    "\n",
    "fig = plt.figure(figsize=(10, 4))  # create a new figure with desired size\n",
    "plt.rc('font', size=14)  # Use a larger font size than the default 10pt\n",
    "\n",
    "ax = fig.add_subplot(1, 2, 1)  # 1 row, 2 columns, subplot 1\n",
    "bx = fig.add_subplot(1, 2, 2)  # 1 row, 2 columns, subplot 2\n",
    "\n",
    "ax.plot(tlist/np.pi, sz_exp)\n",
    "bx.plot(tlist/np.pi, ada_exp)\n",
    "\n",
    "ax.set_xlabel(r'$t/\\pi$')\n",
    "ax.set_ylabel(r'$\\langle \\sigma_z \\rangle$')\n",
    "bx.set_xlabel(r'$t/\\pi$')\n",
    "bx.set_ylabel(r'$\\langle a^\\dagger a \\rangle$')\n",
    "\n",
    "plt.tight_layout()"
   ]
  },
  {
   "cell_type": "code",
   "execution_count": null,
   "metadata": {},
   "outputs": [],
   "source": []
  }
 ],
 "metadata": {
  "kernelspec": {
   "display_name": "Python 3.9.12 ('quantum')",
   "language": "python",
   "name": "python3"
  },
  "language_info": {
   "codemirror_mode": {
    "name": "ipython",
    "version": 3
   },
   "file_extension": ".py",
   "mimetype": "text/x-python",
   "name": "python",
   "nbconvert_exporter": "python",
   "pygments_lexer": "ipython3",
   "version": "3.9.12"
  },
  "vscode": {
   "interpreter": {
    "hash": "f1447f497d7adc30b680dff85ca810cbbaa5d1248a4b968f03b9f5ba2414276a"
   }
  }
 },
 "nbformat": 4,
 "nbformat_minor": 4
}
